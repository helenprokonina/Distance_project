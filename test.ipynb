{
 "cells": [
  {
   "cell_type": "code",
   "execution_count": 1,
   "metadata": {},
   "outputs": [],
   "source": [
    "import numpy as np \n",
    "import cv2\n",
    "from matplotlib import pyplot as plt\n",
    "from ultralytics import YOLO\n",
    "import torch"
   ]
  },
  {
   "cell_type": "code",
   "execution_count": 10,
   "metadata": {},
   "outputs": [],
   "source": [
    "def distance(point, rectangle):\n",
    "    image = np.zeros((100, 100), dtype='uint8')\n",
    "    (x0, y0) = point\n",
    "    (x1,y1) = rectangle[:2]\n",
    "    (x2,y2) = rectangle[2:]\n",
    "    \n",
    "    #minimum distance is in some corner point\n",
    "    if x0>=x2 and y0<=y1:\n",
    "        d=np.sqrt((x2-x0)**2+(y1-y0)**2)\n",
    "        d_coord = [x0,y0, x2,y1]\n",
    "    if x0<=x1 and y0<=y1:\n",
    "        d=np.sqrt((x1-x0)**2+(y1-y0)**2)\n",
    "        d_coord = [x0,y0, x1,y1]  \n",
    "    if x0<=x1 and y0>=y2:\n",
    "        d=np.sqrt((x1-x0)**2+(y2-y0)**2)\n",
    "        d_coord = [x0,y0, x1,y2]    \n",
    "    if x0>=x2 and y0>=y2:\n",
    "        d=np.sqrt((x2-x0)**2+(y2-y0)**2)\n",
    "        d_coord = [x0,y0, x2,y2]     \n",
    "     #minimum distance is on the edge: draw perpendicular to that edge from (x0,y0)\n",
    "    if x0>=x1 and x0<=x2 and y0>=y2:\n",
    "        d=y0-y2\n",
    "        d_coord = [x0,y0, x0,y2] \n",
    "    if x0>=x1 and x0<=x2 and y0<=y1:\n",
    "        d=y1-y0\n",
    "        d_coord = [x0,y0, x0,y1]  \n",
    "    if y0>=y1 and y0<=y2 and x0>=x2:\n",
    "        d=x0-x2\n",
    "        d_coord = [x0,y0, x2,y0] \n",
    "    if y0>=y1 and y0<=y2 and x0<=x1:\n",
    "        d=x1-x0\n",
    "        d_coord = [x0,y0, x1,y0]   \n",
    "    # point is inside rectangle  - distance is the distance between two centers  \n",
    "    if x0>=x1 and x0<=x2 and y0>=y1 and y0<=y2:\n",
    "        center_x = int((x1+x2)/2)\n",
    "        center_y = int((y1+y2)/2)\n",
    "        d=np.sqrt((center_x-x0)**2+(center_y-y0)**2)\n",
    "        d_coord = [x0,y0, center_x, center_y] \n",
    "        print(d_coord)     \n",
    "        \n",
    "    #draw distance\n",
    "    cv2.rectangle(image, (x1, y1), (x2, y2), color=(255,0,0), thickness=1)\n",
    "    cv2.circle(image, (x0,y0), radius=0, color=(255, 0, 0), thickness=-1)\n",
    "    cv2.line(image, d_coord[:2], d_coord[2:], color = (255, 255, 255), thickness=1)\n",
    "    plt.imshow(image)\n",
    "    plt.axis(\"off\")\n",
    "    return d"
   ]
  },
  {
   "cell_type": "code",
   "execution_count": 11,
   "metadata": {},
   "outputs": [
    {
     "name": "stdout",
     "output_type": "stream",
     "text": [
      "[55, 60, 70, 60]\n",
      "15.0\n"
     ]
    },
    {
     "data": {
      "image/png": "[encoded data removed]",
      "text/plain": [
       "<Figure size 640x480 with 1 Axes>"
      ]
     },
     "metadata": {},
     "output_type": "display_data"
    }
   ],
   "source": [
    "d = distance([55,60], [50, 50, 90, 70])\n",
    "print(d)"
   ]
  },
  {
   "cell_type": "code",
   "execution_count": 12,
   "metadata": {},
   "outputs": [],
   "source": [
    "def get_distance(rect1, rect2):\n",
    "    # take senter of person as a point\n",
    "    (x0, y0) = int((rect1[0]+rect1[2])/2), int((rect1[1]+rect1[3])/2)\n",
    "    (x1,y1) = rect2[:2]\n",
    "    (x2,y2) = rect2[2:]\n",
    "    \n",
    "    #d=0\n",
    "    \n",
    "    #minimum distance is in some corner point\n",
    "    if x0>=x2 and y0<=y1:\n",
    "        d=np.sqrt((x2-x0)**2+(y1-y0)**2)\n",
    "        d_coord = [x0,y0, x2,y1]\n",
    "    if x0<=x1 and y0<=y1:\n",
    "        d=np.sqrt((x1-x0)**2+(y1-y0)**2)\n",
    "        d_coord = [x0,y0, x1,y1]  \n",
    "    if x0<=x1 and y0>=y2:\n",
    "        d=np.sqrt((x1-x0)**2+(y2-y0)**2)\n",
    "        d_coord = [x0,y0, x1,y2]    \n",
    "    if x0>=x2 and y0>=y2:\n",
    "        d=np.sqrt((x2-x0)**2+(y2-y0)**2)\n",
    "        d_coord = [x0,y0, x2,y2]     \n",
    "     #minimum distance is on the edge: draw perpendicular to that edge from (x0,y0)\n",
    "    if x0>=x1 and x0<=x2 and y0>=y2:\n",
    "        d=y0-y2\n",
    "        d_coord = [x0,y0, x0,y2] \n",
    "    if x0>=x1 and x0<=x2 and y0<=y1:\n",
    "        d=y1-y0\n",
    "        d_coord = [x0,y0, x0,y1]  \n",
    "    if y0>=y1 and y0<=y2 and x0>=x2:\n",
    "        d=x0-x2\n",
    "        d_coord = [x0,y0, x2,y0] \n",
    "    if y0>=y1 and y0<=y2 and x0<=x1:\n",
    "        d=x1-x0\n",
    "        d_coord = [x0,y0, x1,y0]      \n",
    "    if x0>=x1 and x0<=x2 and y0>=y1 and y0<=y2:\n",
    "        center_x = int((x1+x2)/2)\n",
    "        center_y = int((y1+y2)/2)\n",
    "        d=np.sqrt((center_x-x0)**2+(center_y-y0)**2)\n",
    "        d_coord = [x0,y0, center_x, center_y] \n",
    "        \n",
    "    \n",
    "    return d"
   ]
  },
  {
   "cell_type": "code",
   "execution_count": 13,
   "metadata": {},
   "outputs": [],
   "source": [
    "model = YOLO('yolov8n.pt')"
   ]
  },
  {
   "cell_type": "code",
   "execution_count": 14,
   "metadata": {},
   "outputs": [
    {
     "name": "stderr",
     "output_type": "stream",
     "text": [
      "\n",
      "0: 384x640 6 persons, 5 cars, 1 truck, 2 traffic lights, 300.7ms\n",
      "Speed: 15.9ms preprocess, 300.7ms inference, 0.0ms postprocess per image at shape (1, 3, 384, 640)\n",
      "\n",
      "0: 384x640 6 persons, 5 cars, 1 truck, 1 traffic light, 281.6ms\n",
      "Speed: 9.8ms preprocess, 281.6ms inference, 23.2ms postprocess per image at shape (1, 3, 384, 640)\n",
      "\n",
      "0: 384x640 6 persons, 4 cars, 1 truck, 1 traffic light, 263.2ms\n",
      "Speed: 3.6ms preprocess, 263.2ms inference, 0.0ms postprocess per image at shape (1, 3, 384, 640)\n",
      "\n",
      "0: 384x640 7 persons, 4 cars, 1 truck, 1 traffic light, 317.4ms\n",
      "Speed: 5.0ms preprocess, 317.4ms inference, 0.0ms postprocess per image at shape (1, 3, 384, 640)\n",
      "\n",
      "0: 384x640 6 persons, 4 cars, 1 truck, 2 traffic lights, 397.1ms\n",
      "Speed: 16.8ms preprocess, 397.1ms inference, 0.0ms postprocess per image at shape (1, 3, 384, 640)\n",
      "\n",
      "0: 384x640 5 persons, 5 cars, 1 truck, 2 traffic lights, 208.8ms\n",
      "Speed: 4.0ms preprocess, 208.8ms inference, 3.0ms postprocess per image at shape (1, 3, 384, 640)\n",
      "\n",
      "0: 384x640 7 persons, 4 cars, 1 truck, 3 traffic lights, 148.4ms\n",
      "Speed: 4.9ms preprocess, 148.4ms inference, 0.0ms postprocess per image at shape (1, 3, 384, 640)\n",
      "\n",
      "0: 384x640 6 persons, 4 cars, 1 truck, 2 traffic lights, 146.5ms\n",
      "Speed: 2.1ms preprocess, 146.5ms inference, 3.0ms postprocess per image at shape (1, 3, 384, 640)\n",
      "\n",
      "0: 384x640 6 persons, 4 cars, 1 truck, 1 traffic light, 153.8ms\n",
      "Speed: 5.3ms preprocess, 153.8ms inference, 10.6ms postprocess per image at shape (1, 3, 384, 640)\n",
      "\n",
      "0: 384x640 6 persons, 4 cars, 1 truck, 2 traffic lights, 170.4ms\n",
      "Speed: 4.0ms preprocess, 170.4ms inference, 1.0ms postprocess per image at shape (1, 3, 384, 640)\n",
      "\n",
      "0: 384x640 7 persons, 5 cars, 1 truck, 2 traffic lights, 132.6ms\n",
      "Speed: 10.0ms preprocess, 132.6ms inference, 0.0ms postprocess per image at shape (1, 3, 384, 640)\n",
      "\n",
      "0: 384x640 6 persons, 4 cars, 1 truck, 2 traffic lights, 129.2ms\n",
      "Speed: 5.0ms preprocess, 129.2ms inference, 14.5ms postprocess per image at shape (1, 3, 384, 640)\n",
      "\n",
      "0: 384x640 6 persons, 5 cars, 1 truck, 3 traffic lights, 146.7ms\n",
      "Speed: 12.2ms preprocess, 146.7ms inference, 0.6ms postprocess per image at shape (1, 3, 384, 640)\n",
      "\n",
      "0: 384x640 6 persons, 4 cars, 1 truck, 3 traffic lights, 117.4ms\n",
      "Speed: 7.9ms preprocess, 117.4ms inference, 0.0ms postprocess per image at shape (1, 3, 384, 640)\n",
      "\n",
      "0: 384x640 7 persons, 4 cars, 1 truck, 4 traffic lights, 134.1ms\n",
      "Speed: 8.7ms preprocess, 134.1ms inference, 0.0ms postprocess per image at shape (1, 3, 384, 640)\n",
      "\n",
      "0: 384x640 6 persons, 4 cars, 1 truck, 4 traffic lights, 126.8ms\n",
      "Speed: 0.8ms preprocess, 126.8ms inference, 0.0ms postprocess per image at shape (1, 3, 384, 640)\n",
      "\n",
      "0: 384x640 6 persons, 4 cars, 1 truck, 3 traffic lights, 149.2ms\n",
      "Speed: 3.6ms preprocess, 149.2ms inference, 6.5ms postprocess per image at shape (1, 3, 384, 640)\n",
      "\n",
      "0: 384x640 6 persons, 5 cars, 1 truck, 3 traffic lights, 204.1ms\n",
      "Speed: 0.0ms preprocess, 204.1ms inference, 0.0ms postprocess per image at shape (1, 3, 384, 640)\n",
      "\n",
      "0: 384x640 6 persons, 6 cars, 1 truck, 3 traffic lights, 164.5ms\n",
      "Speed: 5.2ms preprocess, 164.5ms inference, 0.0ms postprocess per image at shape (1, 3, 384, 640)\n",
      "\n",
      "0: 384x640 8 persons, 6 cars, 3 traffic lights, 199.3ms\n",
      "Speed: 16.9ms preprocess, 199.3ms inference, 4.4ms postprocess per image at shape (1, 3, 384, 640)\n",
      "\n",
      "0: 384x640 8 persons, 5 cars, 3 traffic lights, 213.3ms\n",
      "Speed: 1.1ms preprocess, 213.3ms inference, 2.8ms postprocess per image at shape (1, 3, 384, 640)\n",
      "\n",
      "0: 384x640 8 persons, 5 cars, 3 traffic lights, 165.1ms\n",
      "Speed: 4.7ms preprocess, 165.1ms inference, 0.0ms postprocess per image at shape (1, 3, 384, 640)\n",
      "\n",
      "0: 384x640 7 persons, 4 cars, 3 traffic lights, 165.2ms\n",
      "Speed: 0.4ms preprocess, 165.2ms inference, 8.6ms postprocess per image at shape (1, 3, 384, 640)\n",
      "\n",
      "0: 384x640 8 persons, 6 cars, 3 traffic lights, 124.2ms\n",
      "Speed: 4.0ms preprocess, 124.2ms inference, 0.0ms postprocess per image at shape (1, 3, 384, 640)\n",
      "\n",
      "0: 384x640 8 persons, 5 cars, 3 traffic lights, 140.4ms\n",
      "Speed: 0.7ms preprocess, 140.4ms inference, 5.0ms postprocess per image at shape (1, 3, 384, 640)\n",
      "\n",
      "0: 384x640 8 persons, 6 cars, 3 traffic lights, 116.9ms\n",
      "Speed: 16.9ms preprocess, 116.9ms inference, 0.0ms postprocess per image at shape (1, 3, 384, 640)\n",
      "\n",
      "0: 384x640 8 persons, 6 cars, 3 traffic lights, 140.2ms\n",
      "Speed: 2.2ms preprocess, 140.2ms inference, 0.0ms postprocess per image at shape (1, 3, 384, 640)\n",
      "\n"
     ]
    },
    {
     "name": "stdout",
     "output_type": "stream",
     "text": [
      "1\n"
     ]
    },
    {
     "name": "stderr",
     "output_type": "stream",
     "text": [
      "0: 384x640 8 persons, 5 cars, 3 traffic lights, 147.8ms\n",
      "Speed: 3.6ms preprocess, 147.8ms inference, 0.0ms postprocess per image at shape (1, 3, 384, 640)\n",
      "\n"
     ]
    },
    {
     "name": "stdout",
     "output_type": "stream",
     "text": [
      "5\n"
     ]
    },
    {
     "name": "stderr",
     "output_type": "stream",
     "text": [
      "0: 384x640 8 persons, 5 cars, 3 traffic lights, 165.4ms\n",
      "Speed: 4.1ms preprocess, 165.4ms inference, 6.5ms postprocess per image at shape (1, 3, 384, 640)\n",
      "\n",
      "0: 384x640 9 persons, 6 cars, 1 truck, 4 traffic lights, 164.3ms\n",
      "Speed: 2.4ms preprocess, 164.3ms inference, 0.0ms postprocess per image at shape (1, 3, 384, 640)\n",
      "\n",
      "0: 384x640 8 persons, 6 cars, 1 truck, 3 traffic lights, 160.9ms\n"
     ]
    },
    {
     "name": "stdout",
     "output_type": "stream",
     "text": [
      "6\n"
     ]
    },
    {
     "name": "stderr",
     "output_type": "stream",
     "text": [
      "Speed: 3.7ms preprocess, 160.9ms inference, 0.0ms postprocess per image at shape (1, 3, 384, 640)\n",
      "\n"
     ]
    },
    {
     "name": "stdout",
     "output_type": "stream",
     "text": [
      "6\n"
     ]
    },
    {
     "name": "stderr",
     "output_type": "stream",
     "text": [
      "0: 384x640 9 persons, 4 cars, 1 truck, 3 traffic lights, 174.7ms\n",
      "Speed: 3.5ms preprocess, 174.7ms inference, 2.7ms postprocess per image at shape (1, 3, 384, 640)\n",
      "\n",
      "0: 384x640 8 persons, 4 cars, 1 truck, 3 traffic lights, 172.1ms\n",
      "Speed: 4.5ms preprocess, 172.1ms inference, 5.3ms postprocess per image at shape (1, 3, 384, 640)\n",
      "\n",
      "0: 384x640 9 persons, 4 cars, 1 truck, 3 traffic lights, 134.2ms\n",
      "Speed: 3.2ms preprocess, 134.2ms inference, 0.0ms postprocess per image at shape (1, 3, 384, 640)\n",
      "\n",
      "0: 384x640 9 persons, 5 cars, 3 traffic lights, 149.7ms\n",
      "Speed: 13.4ms preprocess, 149.7ms inference, 1.6ms postprocess per image at shape (1, 3, 384, 640)\n",
      "\n",
      "0: 384x640 9 persons, 4 cars, 3 traffic lights, 138.1ms\n",
      "Speed: 18.5ms preprocess, 138.1ms inference, 3.2ms postprocess per image at shape (1, 3, 384, 640)\n",
      "\n"
     ]
    },
    {
     "name": "stdout",
     "output_type": "stream",
     "text": [
      "8\n",
      "9\n"
     ]
    },
    {
     "name": "stderr",
     "output_type": "stream",
     "text": [
      "0: 384x640 8 persons, 4 cars, 3 traffic lights, 177.1ms\n",
      "Speed: 1.8ms preprocess, 177.1ms inference, 0.0ms postprocess per image at shape (1, 3, 384, 640)\n",
      "\n",
      "0: 384x640 8 persons, 4 cars, 1 truck, 5 traffic lights, 122.0ms\n",
      "Speed: 4.9ms preprocess, 122.0ms inference, 0.0ms postprocess per image at shape (1, 3, 384, 640)\n",
      "\n"
     ]
    },
    {
     "name": "stdout",
     "output_type": "stream",
     "text": [
      "8\n",
      "8\n"
     ]
    },
    {
     "name": "stderr",
     "output_type": "stream",
     "text": [
      "0: 384x640 8 persons, 5 cars, 1 truck, 5 traffic lights, 162.0ms\n",
      "Speed: 2.9ms preprocess, 162.0ms inference, 11.4ms postprocess per image at shape (1, 3, 384, 640)\n",
      "\n",
      "0: 384x640 8 persons, 5 cars, 4 traffic lights, 151.3ms\n",
      "Speed: 4.9ms preprocess, 151.3ms inference, 3.0ms postprocess per image at shape (1, 3, 384, 640)\n",
      "\n",
      "0: 384x640 8 persons, 5 cars, 1 truck, 3 traffic lights, 160.8ms\n",
      "Speed: 3.4ms preprocess, 160.8ms inference, 5.5ms postprocess per image at shape (1, 3, 384, 640)\n",
      "\n",
      "0: 384x640 8 persons, 5 cars, 2 traffic lights, 134.1ms\n",
      "Speed: 3.7ms preprocess, 134.1ms inference, 0.0ms postprocess per image at shape (1, 3, 384, 640)\n",
      "\n",
      "0: 384x640 7 persons, 5 cars, 1 truck, 1 traffic light, 154.4ms\n",
      "Speed: 7.2ms preprocess, 154.4ms inference, 3.0ms postprocess per image at shape (1, 3, 384, 640)\n",
      "\n",
      "0: 384x640 8 persons, 5 cars, 1 truck, 2 traffic lights, 169.7ms\n",
      "Speed: 4.5ms preprocess, 169.7ms inference, 3.7ms postprocess per image at shape (1, 3, 384, 640)\n",
      "\n",
      "0: 384x640 9 persons, 5 cars, 1 truck, 3 traffic lights, 159.9ms\n",
      "Speed: 2.6ms preprocess, 159.9ms inference, 0.0ms postprocess per image at shape (1, 3, 384, 640)\n",
      "\n",
      "0: 384x640 7 persons, 5 cars, 1 truck, 3 traffic lights, 160.0ms\n",
      "Speed: 2.7ms preprocess, 160.0ms inference, 0.0ms postprocess per image at shape (1, 3, 384, 640)\n",
      "\n",
      "0: 384x640 7 persons, 5 cars, 1 truck, 4 traffic lights, 171.1ms\n",
      "Speed: 3.4ms preprocess, 171.1ms inference, 2.3ms postprocess per image at shape (1, 3, 384, 640)\n",
      "\n",
      "0: 384x640 7 persons, 4 cars, 1 truck, 4 traffic lights, 152.8ms\n",
      "Speed: 11.8ms preprocess, 152.8ms inference, 4.6ms postprocess per image at shape (1, 3, 384, 640)\n",
      "\n",
      "0: 384x640 6 persons, 4 cars, 4 traffic lights, 208.1ms\n",
      "Speed: 19.1ms preprocess, 208.1ms inference, 0.0ms postprocess per image at shape (1, 3, 384, 640)\n",
      "\n",
      "0: 384x640 7 persons, 4 cars, 3 traffic lights, 205.8ms\n",
      "Speed: 4.7ms preprocess, 205.8ms inference, 6.0ms postprocess per image at shape (1, 3, 384, 640)\n",
      "\n",
      "0: 384x640 8 persons, 4 cars, 4 traffic lights, 165.2ms\n",
      "Speed: 2.5ms preprocess, 165.2ms inference, 2.5ms postprocess per image at shape (1, 3, 384, 640)\n",
      "\n",
      "0: 384x640 7 persons, 4 cars, 1 truck, 4 traffic lights, 177.4ms\n",
      "Speed: 0.8ms preprocess, 177.4ms inference, 4.4ms postprocess per image at shape (1, 3, 384, 640)\n",
      "\n",
      "0: 384x640 6 persons, 3 cars, 1 truck, 5 traffic lights, 160.9ms\n",
      "Speed: 4.0ms preprocess, 160.9ms inference, 3.6ms postprocess per image at shape (1, 3, 384, 640)\n",
      "\n",
      "0: 384x640 7 persons, 4 cars, 1 truck, 4 traffic lights, 149.0ms\n",
      "Speed: 5.7ms preprocess, 149.0ms inference, 0.0ms postprocess per image at shape (1, 3, 384, 640)\n",
      "\n",
      "0: 384x640 8 persons, 3 cars, 1 truck, 4 traffic lights, 154.0ms\n",
      "Speed: 1.4ms preprocess, 154.0ms inference, 0.0ms postprocess per image at shape (1, 3, 384, 640)\n",
      "\n"
     ]
    },
    {
     "name": "stdout",
     "output_type": "stream",
     "text": [
      "7\n"
     ]
    },
    {
     "name": "stderr",
     "output_type": "stream",
     "text": [
      "0: 384x640 6 persons, 4 cars, 1 truck, 4 traffic lights, 154.2ms\n",
      "Speed: 4.6ms preprocess, 154.2ms inference, 16.8ms postprocess per image at shape (1, 3, 384, 640)\n",
      "\n"
     ]
    },
    {
     "name": "stdout",
     "output_type": "stream",
     "text": [
      "9\n"
     ]
    },
    {
     "name": "stderr",
     "output_type": "stream",
     "text": [
      "0: 384x640 4 persons, 4 cars, 1 truck, 4 traffic lights, 164.4ms\n",
      "Speed: 9.0ms preprocess, 164.4ms inference, 0.0ms postprocess per image at shape (1, 3, 384, 640)\n",
      "\n"
     ]
    },
    {
     "name": "stdout",
     "output_type": "stream",
     "text": [
      "9\n"
     ]
    },
    {
     "name": "stderr",
     "output_type": "stream",
     "text": [
      "0: 384x640 9 persons, 4 cars, 1 truck, 4 traffic lights, 163.6ms\n",
      "Speed: 4.9ms preprocess, 163.6ms inference, 4.0ms postprocess per image at shape (1, 3, 384, 640)\n",
      "\n",
      "0: 384x640 9 persons, 4 cars, 5 traffic lights, 153.8ms\n",
      "Speed: 0.7ms preprocess, 153.8ms inference, 3.9ms postprocess per image at shape (1, 3, 384, 640)\n",
      "\n",
      "0: 384x640 9 persons, 4 cars, 1 truck, 4 traffic lights, 145.2ms\n"
     ]
    },
    {
     "name": "stdout",
     "output_type": "stream",
     "text": [
      "9\n"
     ]
    },
    {
     "name": "stderr",
     "output_type": "stream",
     "text": [
      "Speed: 4.3ms preprocess, 145.2ms inference, 16.7ms postprocess per image at shape (1, 3, 384, 640)\n",
      "\n"
     ]
    },
    {
     "name": "stdout",
     "output_type": "stream",
     "text": [
      "9\n"
     ]
    },
    {
     "name": "stderr",
     "output_type": "stream",
     "text": [
      "0: 384x640 7 persons, 4 cars, 1 truck, 3 traffic lights, 180.5ms\n",
      "Speed: 4.5ms preprocess, 180.5ms inference, 0.0ms postprocess per image at shape (1, 3, 384, 640)\n",
      "\n",
      "0: 384x640 9 persons, 4 cars, 2 traffic lights, 136.3ms\n"
     ]
    },
    {
     "name": "stdout",
     "output_type": "stream",
     "text": [
      "8\n"
     ]
    },
    {
     "name": "stderr",
     "output_type": "stream",
     "text": [
      "Speed: 4.2ms preprocess, 136.3ms inference, 14.5ms postprocess per image at shape (1, 3, 384, 640)\n",
      "\n",
      "0: 384x640 8 persons, 1 bicycle, 4 cars, 3 traffic lights, 157.6ms\n"
     ]
    },
    {
     "name": "stdout",
     "output_type": "stream",
     "text": [
      "4\n"
     ]
    },
    {
     "name": "stderr",
     "output_type": "stream",
     "text": [
      "Speed: 4.4ms preprocess, 157.6ms inference, 7.4ms postprocess per image at shape (1, 3, 384, 640)\n",
      "\n",
      "0: 384x640 8 persons, 1 bicycle, 4 cars, 1 truck, 4 traffic lights, 137.2ms\n",
      "Speed: 9.6ms preprocess, 137.2ms inference, 0.0ms postprocess per image at shape (1, 3, 384, 640)\n",
      "\n"
     ]
    },
    {
     "name": "stdout",
     "output_type": "stream",
     "text": [
      "3\n",
      "3\n",
      "5\n"
     ]
    },
    {
     "name": "stderr",
     "output_type": "stream",
     "text": [
      "0: 384x640 10 persons, 4 cars, 1 truck, 4 traffic lights, 164.8ms\n",
      "Speed: 12.1ms preprocess, 164.8ms inference, 0.0ms postprocess per image at shape (1, 3, 384, 640)\n",
      "\n",
      "0: 384x640 10 persons, 4 cars, 4 traffic lights, 155.5ms\n"
     ]
    },
    {
     "name": "stdout",
     "output_type": "stream",
     "text": [
      "5\n",
      "6\n"
     ]
    },
    {
     "name": "stderr",
     "output_type": "stream",
     "text": [
      "Speed: 3.1ms preprocess, 155.5ms inference, 1.0ms postprocess per image at shape (1, 3, 384, 640)\n",
      "\n",
      "0: 384x640 10 persons, 4 cars, 4 traffic lights, 149.9ms\n"
     ]
    },
    {
     "name": "stdout",
     "output_type": "stream",
     "text": [
      "6\n"
     ]
    },
    {
     "name": "stderr",
     "output_type": "stream",
     "text": [
      "Speed: 5.4ms preprocess, 149.9ms inference, 0.0ms postprocess per image at shape (1, 3, 384, 640)\n",
      "\n"
     ]
    },
    {
     "name": "stdout",
     "output_type": "stream",
     "text": [
      "7\n"
     ]
    },
    {
     "name": "stderr",
     "output_type": "stream",
     "text": [
      "0: 384x640 10 persons, 4 cars, 4 traffic lights, 209.2ms\n",
      "Speed: 6.2ms preprocess, 209.2ms inference, 0.0ms postprocess per image at shape (1, 3, 384, 640)\n",
      "\n"
     ]
    },
    {
     "name": "stdout",
     "output_type": "stream",
     "text": [
      "8\n"
     ]
    },
    {
     "name": "stderr",
     "output_type": "stream",
     "text": [
      "0: 384x640 9 persons, 4 cars, 4 traffic lights, 169.9ms\n",
      "Speed: 2.9ms preprocess, 169.9ms inference, 8.5ms postprocess per image at shape (1, 3, 384, 640)\n",
      "\n"
     ]
    },
    {
     "name": "stdout",
     "output_type": "stream",
     "text": [
      "7\n"
     ]
    },
    {
     "name": "stderr",
     "output_type": "stream",
     "text": [
      "0: 384x640 9 persons, 4 cars, 4 traffic lights, 166.8ms\n",
      "Speed: 3.4ms preprocess, 166.8ms inference, 7.1ms postprocess per image at shape (1, 3, 384, 640)\n",
      "\n"
     ]
    },
    {
     "name": "stdout",
     "output_type": "stream",
     "text": [
      "8\n"
     ]
    },
    {
     "name": "stderr",
     "output_type": "stream",
     "text": [
      "0: 384x640 7 persons, 4 cars, 5 traffic lights, 170.5ms\n",
      "Speed: 4.0ms preprocess, 170.5ms inference, 0.5ms postprocess per image at shape (1, 3, 384, 640)\n",
      "\n",
      "0: 384x640 9 persons, 4 cars, 5 traffic lights, 146.7ms\n"
     ]
    },
    {
     "name": "stdout",
     "output_type": "stream",
     "text": [
      "7\n"
     ]
    },
    {
     "name": "stderr",
     "output_type": "stream",
     "text": [
      "Speed: 4.6ms preprocess, 146.7ms inference, 5.3ms postprocess per image at shape (1, 3, 384, 640)\n",
      "\n",
      "0: 384x640 8 persons, 1 bicycle, 5 cars, 3 traffic lights, 151.3ms\n"
     ]
    },
    {
     "name": "stdout",
     "output_type": "stream",
     "text": [
      "6\n"
     ]
    },
    {
     "name": "stderr",
     "output_type": "stream",
     "text": [
      "Speed: 2.5ms preprocess, 151.3ms inference, 6.0ms postprocess per image at shape (1, 3, 384, 640)\n",
      "\n"
     ]
    },
    {
     "name": "stdout",
     "output_type": "stream",
     "text": [
      "7\n"
     ]
    },
    {
     "name": "stderr",
     "output_type": "stream",
     "text": [
      "0: 384x640 10 persons, 1 bicycle, 4 cars, 3 traffic lights, 188.6ms\n",
      "Speed: 4.3ms preprocess, 188.6ms inference, 2.2ms postprocess per image at shape (1, 3, 384, 640)\n",
      "\n"
     ]
    },
    {
     "name": "stdout",
     "output_type": "stream",
     "text": [
      "7\n"
     ]
    },
    {
     "name": "stderr",
     "output_type": "stream",
     "text": [
      "0: 384x640 9 persons, 4 cars, 1 truck, 3 traffic lights, 203.6ms\n",
      "Speed: 5.0ms preprocess, 203.6ms inference, 5.0ms postprocess per image at shape (1, 3, 384, 640)\n",
      "\n",
      "0: 384x640 9 persons, 4 cars, 4 traffic lights, 170.9ms\n"
     ]
    },
    {
     "name": "stdout",
     "output_type": "stream",
     "text": [
      "6\n"
     ]
    },
    {
     "name": "stderr",
     "output_type": "stream",
     "text": [
      "Speed: 4.0ms preprocess, 170.9ms inference, 0.0ms postprocess per image at shape (1, 3, 384, 640)\n",
      "\n"
     ]
    },
    {
     "name": "stdout",
     "output_type": "stream",
     "text": [
      "8\n"
     ]
    },
    {
     "name": "stderr",
     "output_type": "stream",
     "text": [
      "0: 384x640 10 persons, 4 cars, 3 traffic lights, 178.2ms\n",
      "Speed: 3.8ms preprocess, 178.2ms inference, 1.9ms postprocess per image at shape (1, 3, 384, 640)\n",
      "\n"
     ]
    },
    {
     "name": "stdout",
     "output_type": "stream",
     "text": [
      "9\n"
     ]
    },
    {
     "name": "stderr",
     "output_type": "stream",
     "text": [
      "0: 384x640 12 persons, 4 cars, 1 truck, 4 traffic lights, 182.2ms\n",
      "Speed: 6.0ms preprocess, 182.2ms inference, 2.4ms postprocess per image at shape (1, 3, 384, 640)\n",
      "\n",
      "0: 384x640 12 persons, 4 cars, 3 traffic lights, 177.4ms\n",
      "Speed: 3.5ms preprocess, 177.4ms inference, 5.5ms postprocess per image at shape (1, 3, 384, 640)\n",
      "\n",
      "0: 384x640 11 persons, 4 cars, 3 traffic lights, 154.2ms\n",
      "Speed: 3.6ms preprocess, 154.2ms inference, 3.2ms postprocess per image at shape (1, 3, 384, 640)\n",
      "\n",
      "0: 384x640 10 persons, 4 cars, 4 traffic lights, 171.5ms\n",
      "Speed: 2.8ms preprocess, 171.5ms inference, 0.0ms postprocess per image at shape (1, 3, 384, 640)\n",
      "\n"
     ]
    },
    {
     "name": "stdout",
     "output_type": "stream",
     "text": [
      "6.082762530298219\n"
     ]
    },
    {
     "name": "stderr",
     "output_type": "stream",
     "text": [
      "0: 384x640 10 persons, 4 cars, 4 traffic lights, 160.4ms\n",
      "Speed: 4.9ms preprocess, 160.4ms inference, 0.0ms postprocess per image at shape (1, 3, 384, 640)\n",
      "\n",
      "0: 384x640 10 persons, 4 cars, 4 traffic lights, 156.7ms\n"
     ]
    },
    {
     "name": "stdout",
     "output_type": "stream",
     "text": [
      "6\n"
     ]
    },
    {
     "name": "stderr",
     "output_type": "stream",
     "text": [
      "Speed: 16.4ms preprocess, 156.7ms inference, 2.9ms postprocess per image at shape (1, 3, 384, 640)\n",
      "\n"
     ]
    },
    {
     "name": "stdout",
     "output_type": "stream",
     "text": [
      "5\n"
     ]
    },
    {
     "name": "stderr",
     "output_type": "stream",
     "text": [
      "0: 384x640 10 persons, 4 cars, 3 traffic lights, 194.2ms\n",
      "Speed: 9.8ms preprocess, 194.2ms inference, 2.3ms postprocess per image at shape (1, 3, 384, 640)\n",
      "\n"
     ]
    },
    {
     "name": "stdout",
     "output_type": "stream",
     "text": [
      "6\n"
     ]
    },
    {
     "name": "stderr",
     "output_type": "stream",
     "text": [
      "0: 384x640 10 persons, 4 cars, 1 truck, 3 traffic lights, 190.6ms\n",
      "Speed: 3.3ms preprocess, 190.6ms inference, 0.0ms postprocess per image at shape (1, 3, 384, 640)\n",
      "\n",
      "0: 384x640 10 persons, 4 cars, 1 truck, 3 traffic lights, 146.3ms\n",
      "Speed: 5.1ms preprocess, 146.3ms inference, 3.0ms postprocess per image at shape (1, 3, 384, 640)\n",
      "\n"
     ]
    },
    {
     "name": "stdout",
     "output_type": "stream",
     "text": [
      "5\n",
      "5\n"
     ]
    },
    {
     "name": "stderr",
     "output_type": "stream",
     "text": [
      "0: 384x640 10 persons, 4 cars, 1 truck, 3 traffic lights, 178.1ms\n",
      "Speed: 3.5ms preprocess, 178.1ms inference, 0.0ms postprocess per image at shape (1, 3, 384, 640)\n",
      "\n",
      "0: 384x640 9 persons, 4 cars, 1 truck, 2 traffic lights, 163.3ms\n",
      "Speed: 3.6ms preprocess, 163.3ms inference, 6.2ms postprocess per image at shape (1, 3, 384, 640)\n",
      "\n",
      "0: 384x640 11 persons, 4 cars, 1 truck, 2 traffic lights, 120.9ms\n",
      "Speed: 14.0ms preprocess, 120.9ms inference, 9.8ms postprocess per image at shape (1, 3, 384, 640)\n",
      "\n"
     ]
    },
    {
     "name": "stdout",
     "output_type": "stream",
     "text": [
      "7.211102550927978\n",
      "5\n"
     ]
    },
    {
     "name": "stderr",
     "output_type": "stream",
     "text": [
      "0: 384x640 10 persons, 4 cars, 1 truck, 2 traffic lights, 140.1ms\n",
      "Speed: 5.0ms preprocess, 140.1ms inference, 3.2ms postprocess per image at shape (1, 3, 384, 640)\n",
      "\n",
      "0: 384x640 9 persons, 4 cars, 1 truck, 2 traffic lights, 151.8ms\n"
     ]
    },
    {
     "name": "stdout",
     "output_type": "stream",
     "text": [
      "9\n"
     ]
    },
    {
     "name": "stderr",
     "output_type": "stream",
     "text": [
      "Speed: 2.7ms preprocess, 151.8ms inference, 13.2ms postprocess per image at shape (1, 3, 384, 640)\n",
      "\n"
     ]
    },
    {
     "name": "stdout",
     "output_type": "stream",
     "text": [
      "9\n"
     ]
    },
    {
     "name": "stderr",
     "output_type": "stream",
     "text": [
      "0: 384x640 10 persons, 4 cars, 1 truck, 3 traffic lights, 207.0ms\n",
      "Speed: 4.9ms preprocess, 207.0ms inference, 7.2ms postprocess per image at shape (1, 3, 384, 640)\n",
      "\n",
      "0: 384x640 10 persons, 4 cars, 3 traffic lights, 121.6ms\n",
      "Speed: 4.0ms preprocess, 121.6ms inference, 9.6ms postprocess per image at shape (1, 3, 384, 640)\n",
      "\n"
     ]
    },
    {
     "name": "stdout",
     "output_type": "stream",
     "text": [
      "7\n",
      "8\n"
     ]
    },
    {
     "name": "stderr",
     "output_type": "stream",
     "text": [
      "0: 384x640 11 persons, 4 cars, 2 traffic lights, 150.5ms\n",
      "Speed: 4.1ms preprocess, 150.5ms inference, 3.4ms postprocess per image at shape (1, 3, 384, 640)\n",
      "\n",
      "0: 384x640 11 persons, 4 cars, 2 traffic lights, 134.8ms\n",
      "Speed: 1.8ms preprocess, 134.8ms inference, 13.2ms postprocess per image at shape (1, 3, 384, 640)\n",
      "\n"
     ]
    },
    {
     "name": "stdout",
     "output_type": "stream",
     "text": [
      "7\n"
     ]
    },
    {
     "name": "stderr",
     "output_type": "stream",
     "text": [
      "0: 384x640 12 persons, 4 cars, 2 traffic lights, 171.9ms\n",
      "Speed: 3.3ms preprocess, 171.9ms inference, 5.7ms postprocess per image at shape (1, 3, 384, 640)\n",
      "\n",
      "0: 384x640 11 persons, 4 cars, 1 truck, 2 traffic lights, 168.7ms\n"
     ]
    },
    {
     "name": "stdout",
     "output_type": "stream",
     "text": [
      "9\n"
     ]
    },
    {
     "name": "stderr",
     "output_type": "stream",
     "text": [
      "Speed: 3.0ms preprocess, 168.7ms inference, 5.5ms postprocess per image at shape (1, 3, 384, 640)\n",
      "\n",
      "0: 384x640 11 persons, 4 cars, 2 trucks, 2 traffic lights, 152.5ms\n"
     ]
    },
    {
     "name": "stdout",
     "output_type": "stream",
     "text": [
      "9\n",
      "7\n",
      "7\n"
     ]
    },
    {
     "name": "stderr",
     "output_type": "stream",
     "text": [
      "Speed: 11.0ms preprocess, 152.5ms inference, 3.9ms postprocess per image at shape (1, 3, 384, 640)\n",
      "\n",
      "0: 384x640 11 persons, 3 cars, 2 trucks, 4 traffic lights, 138.2ms\n",
      "Speed: 5.2ms preprocess, 138.2ms inference, 0.8ms postprocess per image at shape (1, 3, 384, 640)\n"
     ]
    },
    {
     "name": "stdout",
     "output_type": "stream",
     "text": [
      "6\n",
      "6\n",
      "7.0710678118654755\n",
      "8.06225774829855\n",
      "7.280109889280518\n",
      "6\n",
      "7\n"
     ]
    },
    {
     "name": "stderr",
     "output_type": "stream",
     "text": [
      "\n",
      "0: 384x640 11 persons, 4 cars, 2 trucks, 4 traffic lights, 160.4ms\n",
      "Speed: 3.1ms preprocess, 160.4ms inference, 0.0ms postprocess per image at shape (1, 3, 384, 640)\n",
      "\n",
      "0: 384x640 9 persons, 3 cars, 2 trucks, 4 traffic lights, 141.3ms\n"
     ]
    },
    {
     "name": "stdout",
     "output_type": "stream",
     "text": [
      "8.602325267042627\n",
      "8.602325267042627\n",
      "6\n",
      "5\n"
     ]
    },
    {
     "name": "stderr",
     "output_type": "stream",
     "text": [
      "Speed: 4.4ms preprocess, 141.3ms inference, 13.3ms postprocess per image at shape (1, 3, 384, 640)\n",
      "\n"
     ]
    },
    {
     "name": "stdout",
     "output_type": "stream",
     "text": [
      "2\n"
     ]
    },
    {
     "name": "stderr",
     "output_type": "stream",
     "text": [
      "0: 384x640 10 persons, 4 cars, 1 truck, 4 traffic lights, 194.8ms\n",
      "Speed: 4.6ms preprocess, 194.8ms inference, 1.2ms postprocess per image at shape (1, 3, 384, 640)\n",
      "\n",
      "0: 384x640 10 persons, 4 cars, 5 traffic lights, 147.3ms\n"
     ]
    },
    {
     "name": "stdout",
     "output_type": "stream",
     "text": [
      "1\n",
      "1\n"
     ]
    },
    {
     "name": "stderr",
     "output_type": "stream",
     "text": [
      "Speed: 3.3ms preprocess, 147.3ms inference, 4.5ms postprocess per image at shape (1, 3, 384, 640)\n",
      "\n",
      "0: 384x640 8 persons, 4 cars, 5 traffic lights, 147.2ms\n",
      "Speed: 4.5ms preprocess, 147.2ms inference, 0.0ms postprocess per image at shape (1, 3, 384, 640)\n",
      "\n",
      "0: 384x640 9 persons, 4 cars, 5 traffic lights, 200.4ms\n",
      "Speed: 4.6ms preprocess, 200.4ms inference, 0.0ms postprocess per image at shape (1, 3, 384, 640)\n",
      "\n",
      "0: 384x640 6 persons, 4 cars, 4 traffic lights, 142.8ms\n",
      "Speed: 2.9ms preprocess, 142.8ms inference, 4.0ms postprocess per image at shape (1, 3, 384, 640)\n",
      "\n",
      "0: 384x640 6 persons, 4 cars, 1 truck, 3 traffic lights, 162.2ms\n",
      "Speed: 2.0ms preprocess, 162.2ms inference, 11.5ms postprocess per image at shape (1, 3, 384, 640)\n",
      "\n",
      "0: 384x640 8 persons, 4 cars, 2 trucks, 3 traffic lights, 155.2ms\n",
      "Speed: 15.5ms preprocess, 155.2ms inference, 0.0ms postprocess per image at shape (1, 3, 384, 640)\n",
      "\n",
      "0: 384x640 7 persons, 4 cars, 2 trucks, 3 traffic lights, 203.9ms\n",
      "Speed: 5.2ms preprocess, 203.9ms inference, 0.0ms postprocess per image at shape (1, 3, 384, 640)\n",
      "\n",
      "0: 384x640 8 persons, 3 cars, 1 truck, 3 traffic lights, 213.7ms\n",
      "Speed: 4.3ms preprocess, 213.7ms inference, 3.3ms postprocess per image at shape (1, 3, 384, 640)\n",
      "\n",
      "0: 384x640 7 persons, 3 cars, 2 traffic lights, 1 skateboard, 165.9ms\n",
      "Speed: 3.7ms preprocess, 165.9ms inference, 2.9ms postprocess per image at shape (1, 3, 384, 640)\n",
      "\n",
      "0: 384x640 7 persons, 3 cars, 1 traffic light, 1 skateboard, 131.4ms\n",
      "Speed: 4.1ms preprocess, 131.4ms inference, 0.0ms postprocess per image at shape (1, 3, 384, 640)\n",
      "\n",
      "0: 384x640 9 persons, 3 cars, 1 traffic light, 1 skateboard, 175.7ms\n",
      "Speed: 5.0ms preprocess, 175.7ms inference, 0.0ms postprocess per image at shape (1, 3, 384, 640)\n",
      "\n",
      "0: 384x640 8 persons, 3 cars, 4 traffic lights, 1 skateboard, 167.0ms\n",
      "Speed: 6.9ms preprocess, 167.0ms inference, 16.5ms postprocess per image at shape (1, 3, 384, 640)\n",
      "\n",
      "0: 384x640 9 persons, 3 cars, 2 traffic lights, 1 skateboard, 159.8ms\n",
      "Speed: 0.0ms preprocess, 159.8ms inference, 0.0ms postprocess per image at shape (1, 3, 384, 640)\n",
      "\n",
      "0: 384x640 8 persons, 3 cars, 1 traffic light, 1 skateboard, 124.8ms\n",
      "Speed: 3.1ms preprocess, 124.8ms inference, 3.2ms postprocess per image at shape (1, 3, 384, 640)\n",
      "\n",
      "0: 384x640 9 persons, 3 cars, 1 truck, 1 traffic light, 1 skateboard, 145.3ms\n",
      "Speed: 3.1ms preprocess, 145.3ms inference, 8.9ms postprocess per image at shape (1, 3, 384, 640)\n",
      "\n",
      "0: 384x640 9 persons, 3 cars, 2 trucks, 1 traffic light, 1 skateboard, 211.6ms\n",
      "Speed: 3.6ms preprocess, 211.6ms inference, 3.0ms postprocess per image at shape (1, 3, 384, 640)\n",
      "\n",
      "0: 384x640 6 persons, 3 cars, 1 truck, 1 traffic light, 183.5ms\n",
      "Speed: 0.9ms preprocess, 183.5ms inference, 3.9ms postprocess per image at shape (1, 3, 384, 640)\n",
      "\n",
      "0: 384x640 8 persons, 3 cars, 1 truck, 1 traffic light, 168.2ms\n",
      "Speed: 4.7ms preprocess, 168.2ms inference, 2.4ms postprocess per image at shape (1, 3, 384, 640)\n",
      "\n",
      "0: 384x640 7 persons, 3 cars, 1 truck, 1 traffic light, 177.4ms\n",
      "Speed: 6.9ms preprocess, 177.4ms inference, 2.1ms postprocess per image at shape (1, 3, 384, 640)\n",
      "\n",
      "0: 384x640 9 persons, 4 cars, 1 truck, 2 traffic lights, 134.5ms\n",
      "Speed: 4.0ms preprocess, 134.5ms inference, 3.4ms postprocess per image at shape (1, 3, 384, 640)\n",
      "\n",
      "0: 384x640 10 persons, 3 cars, 2 trucks, 1 traffic light, 152.4ms\n",
      "Speed: 3.5ms preprocess, 152.4ms inference, 2.8ms postprocess per image at shape (1, 3, 384, 640)\n",
      "\n",
      "0: 384x640 11 persons, 3 cars, 2 trucks, 2 traffic lights, 2 skateboards, 126.1ms\n",
      "Speed: 4.4ms preprocess, 126.1ms inference, 0.0ms postprocess per image at shape (1, 3, 384, 640)\n",
      "\n",
      "0: 384x640 9 persons, 3 cars, 1 truck, 2 traffic lights, 1 skateboard, 129.4ms\n",
      "Speed: 4.1ms preprocess, 129.4ms inference, 3.9ms postprocess per image at shape (1, 3, 384, 640)\n",
      "\n",
      "0: 384x640 11 persons, 3 cars, 1 truck, 2 traffic lights, 1 skateboard, 150.6ms\n",
      "Speed: 4.3ms preprocess, 150.6ms inference, 0.0ms postprocess per image at shape (1, 3, 384, 640)\n",
      "\n",
      "0: 384x640 9 persons, 3 cars, 2 trucks, 2 traffic lights, 1 skateboard, 175.4ms\n",
      "Speed: 7.0ms preprocess, 175.4ms inference, 0.0ms postprocess per image at shape (1, 3, 384, 640)\n",
      "\n",
      "0: 384x640 10 persons, 4 cars, 2 trucks, 2 traffic lights, 1 skateboard, 147.0ms\n",
      "Speed: 3.3ms preprocess, 147.0ms inference, 0.0ms postprocess per image at shape (1, 3, 384, 640)\n",
      "\n",
      "0: 384x640 11 persons, 4 cars, 1 truck, 1 traffic light, 116.6ms\n",
      "Speed: 1.6ms preprocess, 116.6ms inference, 0.0ms postprocess per image at shape (1, 3, 384, 640)\n",
      "\n"
     ]
    },
    {
     "name": "stdout",
     "output_type": "stream",
     "text": [
      "5\n"
     ]
    },
    {
     "name": "stderr",
     "output_type": "stream",
     "text": [
      "0: 384x640 10 persons, 4 cars, 2 traffic lights, 183.5ms\n",
      "Speed: 9.2ms preprocess, 183.5ms inference, 4.6ms postprocess per image at shape (1, 3, 384, 640)\n",
      "\n",
      "0: 384x640 13 persons, 4 cars, 1 traffic light, 160.0ms\n"
     ]
    },
    {
     "name": "stdout",
     "output_type": "stream",
     "text": [
      "2\n"
     ]
    },
    {
     "name": "stderr",
     "output_type": "stream",
     "text": [
      "Speed: 4.4ms preprocess, 160.0ms inference, 2.5ms postprocess per image at shape (1, 3, 384, 640)\n",
      "\n",
      "0: 384x640 10 persons, 4 cars, 1 traffic light, 159.1ms\n",
      "Speed: 3.3ms preprocess, 159.1ms inference, 4.2ms postprocess per image at shape (1, 3, 384, 640)\n",
      "\n",
      "0: 384x640 10 persons, 4 cars, 1 traffic light, 150.9ms\n",
      "Speed: 4.1ms preprocess, 150.9ms inference, 0.0ms postprocess per image at shape (1, 3, 384, 640)\n",
      "\n",
      "0: 384x640 12 persons, 4 cars, 1 traffic light, 1 skateboard, 126.6ms\n",
      "Speed: 3.3ms preprocess, 126.6ms inference, 0.0ms postprocess per image at shape (1, 3, 384, 640)\n",
      "\n"
     ]
    },
    {
     "name": "stdout",
     "output_type": "stream",
     "text": [
      "6\n"
     ]
    },
    {
     "name": "stderr",
     "output_type": "stream",
     "text": [
      "0: 384x640 12 persons, 4 cars, 1 traffic light, 1 skateboard, 184.6ms\n",
      "Speed: 11.4ms preprocess, 184.6ms inference, 2.7ms postprocess per image at shape (1, 3, 384, 640)\n",
      "\n",
      "0: 384x640 9 persons, 4 cars, 1 traffic light, 152.4ms\n",
      "Speed: 5.5ms preprocess, 152.4ms inference, 2.3ms postprocess per image at shape (1, 3, 384, 640)\n",
      "\n",
      "0: 384x640 9 persons, 4 cars, 1 traffic light, 162.6ms\n",
      "Speed: 3.3ms preprocess, 162.6ms inference, 1.4ms postprocess per image at shape (1, 3, 384, 640)\n",
      "\n",
      "0: 384x640 8 persons, 4 cars, 2 traffic lights, 184.5ms\n",
      "Speed: 3.9ms preprocess, 184.5ms inference, 15.0ms postprocess per image at shape (1, 3, 384, 640)\n",
      "\n",
      "0: 384x640 8 persons, 4 cars, 1 truck, 2 traffic lights, 148.9ms\n",
      "Speed: 7.9ms preprocess, 148.9ms inference, 1.1ms postprocess per image at shape (1, 3, 384, 640)\n",
      "\n",
      "0: 384x640 11 persons, 4 cars, 1 truck, 3 traffic lights, 165.4ms\n",
      "Speed: 4.6ms preprocess, 165.4ms inference, 0.0ms postprocess per image at shape (1, 3, 384, 640)\n",
      "\n",
      "0: 384x640 11 persons, 4 cars, 3 traffic lights, 157.6ms\n",
      "Speed: 1.1ms preprocess, 157.6ms inference, 0.0ms postprocess per image at shape (1, 3, 384, 640)\n",
      "\n",
      "0: 384x640 12 persons, 4 cars, 3 traffic lights, 182.3ms\n",
      "Speed: 2.8ms preprocess, 182.3ms inference, 0.0ms postprocess per image at shape (1, 3, 384, 640)\n",
      "\n",
      "0: 384x640 11 persons, 4 cars, 1 truck, 3 traffic lights, 165.8ms\n",
      "Speed: 3.1ms preprocess, 165.8ms inference, 4.6ms postprocess per image at shape (1, 3, 384, 640)\n",
      "\n",
      "0: 384x640 12 persons, 4 cars, 1 truck, 2 traffic lights, 204.4ms\n",
      "Speed: 3.4ms preprocess, 204.4ms inference, 0.6ms postprocess per image at shape (1, 3, 384, 640)\n",
      "\n",
      "0: 384x640 12 persons, 4 cars, 1 truck, 2 traffic lights, 177.2ms\n",
      "Speed: 5.4ms preprocess, 177.2ms inference, 2.2ms postprocess per image at shape (1, 3, 384, 640)\n",
      "\n"
     ]
    },
    {
     "name": "stdout",
     "output_type": "stream",
     "text": [
      "5\n"
     ]
    },
    {
     "name": "stderr",
     "output_type": "stream",
     "text": [
      "0: 384x640 14 persons, 4 cars, 1 truck, 3 traffic lights, 180.6ms\n",
      "Speed: 3.9ms preprocess, 180.6ms inference, 3.8ms postprocess per image at shape (1, 3, 384, 640)\n",
      "\n",
      "0: 384x640 12 persons, 4 cars, 1 truck, 4 traffic lights, 1 skateboard, 187.5ms\n",
      "Speed: 4.1ms preprocess, 187.5ms inference, 0.0ms postprocess per image at shape (1, 3, 384, 640)\n",
      "\n",
      "0: 384x640 14 persons, 4 cars, 1 truck, 3 traffic lights, 1 skateboard, 143.4ms\n"
     ]
    },
    {
     "name": "stdout",
     "output_type": "stream",
     "text": [
      "6\n"
     ]
    },
    {
     "name": "stderr",
     "output_type": "stream",
     "text": [
      "Speed: 5.5ms preprocess, 143.4ms inference, 3.0ms postprocess per image at shape (1, 3, 384, 640)\n",
      "\n",
      "0: 384x640 15 persons, 4 cars, 2 traffic lights, 163.2ms\n"
     ]
    },
    {
     "name": "stdout",
     "output_type": "stream",
     "text": [
      "1\n"
     ]
    },
    {
     "name": "stderr",
     "output_type": "stream",
     "text": [
      "Speed: 15.3ms preprocess, 163.2ms inference, 2.8ms postprocess per image at shape (1, 3, 384, 640)\n",
      "\n"
     ]
    },
    {
     "name": "stdout",
     "output_type": "stream",
     "text": [
      "7\n"
     ]
    },
    {
     "name": "stderr",
     "output_type": "stream",
     "text": [
      "0: 384x640 14 persons, 4 cars, 2 traffic lights, 248.5ms\n",
      "Speed: 5.2ms preprocess, 248.5ms inference, 3.3ms postprocess per image at shape (1, 3, 384, 640)\n",
      "\n",
      "0: 384x640 13 persons, 4 cars, 2 traffic lights, 194.1ms\n",
      "Speed: 4.9ms preprocess, 194.1ms inference, 6.3ms postprocess per image at shape (1, 3, 384, 640)\n",
      "\n"
     ]
    },
    {
     "name": "stdout",
     "output_type": "stream",
     "text": [
      "9\n"
     ]
    },
    {
     "name": "stderr",
     "output_type": "stream",
     "text": [
      "0: 384x640 11 persons, 4 cars, 1 truck, 2 traffic lights, 166.4ms\n",
      "Speed: 4.3ms preprocess, 166.4ms inference, 12.0ms postprocess per image at shape (1, 3, 384, 640)\n",
      "\n",
      "0: 384x640 13 persons, 4 cars, 2 traffic lights, 175.9ms\n"
     ]
    },
    {
     "name": "stdout",
     "output_type": "stream",
     "text": [
      "7.0710678118654755\n"
     ]
    },
    {
     "name": "stderr",
     "output_type": "stream",
     "text": [
      "Speed: 2.2ms preprocess, 175.9ms inference, 0.0ms postprocess per image at shape (1, 3, 384, 640)\n",
      "\n"
     ]
    },
    {
     "name": "stdout",
     "output_type": "stream",
     "text": [
      "8\n"
     ]
    },
    {
     "name": "stderr",
     "output_type": "stream",
     "text": [
      "0: 384x640 13 persons, 4 cars, 2 trucks, 2 traffic lights, 196.8ms\n",
      "Speed: 8.1ms preprocess, 196.8ms inference, 3.0ms postprocess per image at shape (1, 3, 384, 640)\n",
      "\n",
      "0: 384x640 10 persons, 4 cars, 1 truck, 2 traffic lights, 162.2ms\n"
     ]
    },
    {
     "name": "stdout",
     "output_type": "stream",
     "text": [
      "8\n",
      "7\n"
     ]
    },
    {
     "name": "stderr",
     "output_type": "stream",
     "text": [
      "Speed: 3.4ms preprocess, 162.2ms inference, 2.3ms postprocess per image at shape (1, 3, 384, 640)\n",
      "\n",
      "0: 384x640 9 persons, 4 cars, 2 trucks, 1 traffic light, 153.0ms\n"
     ]
    },
    {
     "name": "stdout",
     "output_type": "stream",
     "text": [
      "8\n"
     ]
    },
    {
     "name": "stderr",
     "output_type": "stream",
     "text": [
      "Speed: 4.2ms preprocess, 153.0ms inference, 0.0ms postprocess per image at shape (1, 3, 384, 640)\n",
      "\n",
      "0: 384x640 9 persons, 3 cars, 2 trucks, 1 traffic light, 172.1ms\n"
     ]
    },
    {
     "name": "stdout",
     "output_type": "stream",
     "text": [
      "9\n"
     ]
    },
    {
     "name": "stderr",
     "output_type": "stream",
     "text": [
      "Speed: 0.0ms preprocess, 172.1ms inference, 0.0ms postprocess per image at shape (1, 3, 384, 640)\n",
      "\n",
      "0: 384x640 10 persons, 3 cars, 1 truck, 2 traffic lights, 174.1ms\n",
      "Speed: 3.2ms preprocess, 174.1ms inference, 0.0ms postprocess per image at shape (1, 3, 384, 640)\n",
      "\n",
      "0: 384x640 10 persons, 4 cars, 1 truck, 2 traffic lights, 191.0ms\n",
      "Speed: 6.4ms preprocess, 191.0ms inference, 15.6ms postprocess per image at shape (1, 3, 384, 640)\n",
      "\n",
      "0: 384x640 10 persons, 3 cars, 1 truck, 1 boat, 2 traffic lights, 151.1ms\n",
      "Speed: 4.1ms preprocess, 151.1ms inference, 0.0ms postprocess per image at shape (1, 3, 384, 640)\n",
      "\n",
      "0: 384x640 9 persons, 2 cars, 1 truck, 1 boat, 2 traffic lights, 155.0ms\n",
      "Speed: 8.2ms preprocess, 155.0ms inference, 4.3ms postprocess per image at shape (1, 3, 384, 640)\n",
      "\n",
      "0: 384x640 12 persons, 4 cars, 1 truck, 2 traffic lights, 166.9ms\n",
      "Speed: 3.5ms preprocess, 166.9ms inference, 3.8ms postprocess per image at shape (1, 3, 384, 640)\n",
      "\n",
      "0: 384x640 12 persons, 4 cars, 1 truck, 2 traffic lights, 142.3ms\n",
      "Speed: 1.1ms preprocess, 142.3ms inference, 12.5ms postprocess per image at shape (1, 3, 384, 640)\n",
      "\n",
      "0: 384x640 13 persons, 4 cars, 1 truck, 1 boat, 2 traffic lights, 279.8ms\n",
      "Speed: 4.1ms preprocess, 279.8ms inference, 3.3ms postprocess per image at shape (1, 3, 384, 640)\n",
      "\n",
      "0: 384x640 11 persons, 4 cars, 1 truck, 1 boat, 2 traffic lights, 297.5ms\n",
      "Speed: 1.4ms preprocess, 297.5ms inference, 4.8ms postprocess per image at shape (1, 3, 384, 640)\n",
      "\n",
      "0: 384x640 12 persons, 4 cars, 1 truck, 1 boat, 2 traffic lights, 166.5ms\n",
      "Speed: 3.4ms preprocess, 166.5ms inference, 2.7ms postprocess per image at shape (1, 3, 384, 640)\n",
      "\n",
      "0: 384x640 12 persons, 4 cars, 1 truck, 1 boat, 2 traffic lights, 150.9ms\n",
      "Speed: 4.4ms preprocess, 150.9ms inference, 2.9ms postprocess per image at shape (1, 3, 384, 640)\n",
      "\n",
      "0: 384x640 10 persons, 4 cars, 1 truck, 2 traffic lights, 160.1ms\n",
      "Speed: 3.4ms preprocess, 160.1ms inference, 0.0ms postprocess per image at shape (1, 3, 384, 640)\n",
      "\n",
      "0: 384x640 10 persons, 4 cars, 2 trucks, 1 traffic light, 155.9ms\n",
      "Speed: 3.3ms preprocess, 155.9ms inference, 3.7ms postprocess per image at shape (1, 3, 384, 640)\n",
      "\n",
      "0: 384x640 11 persons, 4 cars, 1 bus, 2 trucks, 1 traffic light, 209.7ms\n",
      "Speed: 5.1ms preprocess, 209.7ms inference, 2.1ms postprocess per image at shape (1, 3, 384, 640)\n",
      "\n",
      "0: 384x640 11 persons, 3 cars, 1 bus, 2 trucks, 2 traffic lights, 163.1ms\n"
     ]
    },
    {
     "name": "stdout",
     "output_type": "stream",
     "text": [
      "9.899494936611665\n"
     ]
    },
    {
     "name": "stderr",
     "output_type": "stream",
     "text": [
      "Speed: 5.4ms preprocess, 163.1ms inference, 4.3ms postprocess per image at shape (1, 3, 384, 640)\n",
      "\n",
      "0: 384x640 12 persons, 3 cars, 2 trucks, 2 traffic lights, 167.6ms\n"
     ]
    },
    {
     "name": "stdout",
     "output_type": "stream",
     "text": [
      "6.708203932499369\n"
     ]
    },
    {
     "name": "stderr",
     "output_type": "stream",
     "text": [
      "Speed: 4.9ms preprocess, 167.6ms inference, 5.4ms postprocess per image at shape (1, 3, 384, 640)\n",
      "\n",
      "0: 384x640 13 persons, 3 cars, 1 truck, 2 traffic lights, 134.6ms\n",
      "Speed: 5.4ms preprocess, 134.6ms inference, 10.0ms postprocess per image at shape (1, 3, 384, 640)\n"
     ]
    },
    {
     "name": "stdout",
     "output_type": "stream",
     "text": [
      "8.06225774829855\n"
     ]
    },
    {
     "name": "stderr",
     "output_type": "stream",
     "text": [
      "\n",
      "0: 384x640 11 persons, 2 cars, 1 truck, 2 traffic lights, 151.6ms\n"
     ]
    },
    {
     "name": "stdout",
     "output_type": "stream",
     "text": [
      "9.899494936611665\n"
     ]
    },
    {
     "name": "stderr",
     "output_type": "stream",
     "text": [
      "Speed: 0.6ms preprocess, 151.6ms inference, 4.6ms postprocess per image at shape (1, 3, 384, 640)\n",
      "\n",
      "0: 384x640 13 persons, 2 cars, 1 truck, 2 traffic lights, 236.1ms\n",
      "Speed: 4.2ms preprocess, 236.1ms inference, 1.9ms postprocess per image at shape (1, 3, 384, 640)\n",
      "\n",
      "0: 384x640 12 persons, 2 cars, 1 truck, 2 traffic lights, 165.4ms\n",
      "Speed: 4.1ms preprocess, 165.4ms inference, 0.5ms postprocess per image at shape (1, 3, 384, 640)\n",
      "\n",
      "0: 384x640 12 persons, 2 cars, 2 trucks, 2 traffic lights, 169.0ms\n",
      "Speed: 3.9ms preprocess, 169.0ms inference, 5.2ms postprocess per image at shape (1, 3, 384, 640)\n",
      "\n",
      "0: 384x640 13 persons, 2 cars, 2 trucks, 2 traffic lights, 156.4ms\n"
     ]
    },
    {
     "name": "stdout",
     "output_type": "stream",
     "text": [
      "8\n"
     ]
    },
    {
     "name": "stderr",
     "output_type": "stream",
     "text": [
      "Speed: 3.8ms preprocess, 156.4ms inference, 0.0ms postprocess per image at shape (1, 3, 384, 640)\n",
      "\n"
     ]
    },
    {
     "name": "stdout",
     "output_type": "stream",
     "text": [
      "9\n"
     ]
    },
    {
     "name": "stderr",
     "output_type": "stream",
     "text": [
      "0: 384x640 12 persons, 2 cars, 3 trucks, 2 traffic lights, 177.6ms\n",
      "Speed: 3.7ms preprocess, 177.6ms inference, 7.7ms postprocess per image at shape (1, 3, 384, 640)\n",
      "\n"
     ]
    },
    {
     "name": "stdout",
     "output_type": "stream",
     "text": [
      "9\n"
     ]
    },
    {
     "name": "stderr",
     "output_type": "stream",
     "text": [
      "0: 384x640 12 persons, 3 cars, 2 trucks, 2 traffic lights, 222.4ms\n",
      "Speed: 4.1ms preprocess, 222.4ms inference, 3.7ms postprocess per image at shape (1, 3, 384, 640)\n",
      "\n",
      "0: 384x640 9 persons, 3 cars, 3 trucks, 2 traffic lights, 184.8ms\n",
      "Speed: 5.0ms preprocess, 184.8ms inference, 0.0ms postprocess per image at shape (1, 3, 384, 640)\n",
      "\n"
     ]
    },
    {
     "name": "stdout",
     "output_type": "stream",
     "text": [
      "9.848857801796104\n"
     ]
    },
    {
     "name": "stderr",
     "output_type": "stream",
     "text": [
      "0: 384x640 12 persons, 4 cars, 2 trucks, 2 traffic lights, 163.3ms\n",
      "Speed: 3.3ms preprocess, 163.3ms inference, 9.8ms postprocess per image at shape (1, 3, 384, 640)\n",
      "\n",
      "0: 384x640 12 persons, 4 cars, 2 trucks, 2 traffic lights, 152.0ms\n"
     ]
    },
    {
     "name": "stdout",
     "output_type": "stream",
     "text": [
      "6.324555320336759\n",
      "6\n"
     ]
    },
    {
     "name": "stderr",
     "output_type": "stream",
     "text": [
      "Speed: 4.6ms preprocess, 152.0ms inference, 0.0ms postprocess per image at shape (1, 3, 384, 640)\n",
      "\n"
     ]
    },
    {
     "name": "stdout",
     "output_type": "stream",
     "text": [
      "4\n",
      "4\n"
     ]
    },
    {
     "name": "stderr",
     "output_type": "stream",
     "text": [
      "0: 384x640 12 persons, 4 cars, 2 trucks, 2 traffic lights, 253.2ms\n",
      "Speed: 4.1ms preprocess, 253.2ms inference, 3.0ms postprocess per image at shape (1, 3, 384, 640)\n",
      "\n"
     ]
    },
    {
     "name": "stdout",
     "output_type": "stream",
     "text": [
      "8.54400374531753\n",
      "9\n"
     ]
    },
    {
     "name": "stderr",
     "output_type": "stream",
     "text": [
      "0: 384x640 12 persons, 3 cars, 2 trucks, 2 traffic lights, 211.0ms\n",
      "Speed: 8.1ms preprocess, 211.0ms inference, 3.6ms postprocess per image at shape (1, 3, 384, 640)\n",
      "\n",
      "0: 384x640 12 persons, 3 cars, 2 trucks, 2 traffic lights, 206.0ms\n",
      "Speed: 5.0ms preprocess, 206.0ms inference, 2.1ms postprocess per image at shape (1, 3, 384, 640)\n",
      "\n",
      "0: 384x640 13 persons, 3 cars, 1 truck, 2 traffic lights, 155.9ms\n",
      "Speed: 4.0ms preprocess, 155.9ms inference, 0.0ms postprocess per image at shape (1, 3, 384, 640)\n",
      "\n",
      "0: 384x640 11 persons, 3 cars, 2 trucks, 3 traffic lights, 194.2ms\n",
      "Speed: 3.1ms preprocess, 194.2ms inference, 3.5ms postprocess per image at shape (1, 3, 384, 640)\n",
      "\n"
     ]
    },
    {
     "name": "stdout",
     "output_type": "stream",
     "text": [
      "9\n"
     ]
    },
    {
     "name": "stderr",
     "output_type": "stream",
     "text": [
      "0: 384x640 10 persons, 3 cars, 1 truck, 3 traffic lights, 189.0ms\n",
      "Speed: 9.2ms preprocess, 189.0ms inference, 2.7ms postprocess per image at shape (1, 3, 384, 640)\n",
      "\n"
     ]
    },
    {
     "name": "stdout",
     "output_type": "stream",
     "text": [
      "6\n"
     ]
    },
    {
     "name": "stderr",
     "output_type": "stream",
     "text": [
      "0: 384x640 10 persons, 4 cars, 1 truck, 3 traffic lights, 174.1ms\n",
      "Speed: 3.4ms preprocess, 174.1ms inference, 3.8ms postprocess per image at shape (1, 3, 384, 640)\n",
      "\n"
     ]
    },
    {
     "name": "stdout",
     "output_type": "stream",
     "text": [
      "6\n",
      "5\n"
     ]
    },
    {
     "name": "stderr",
     "output_type": "stream",
     "text": [
      "0: 384x640 11 persons, 4 cars, 1 truck, 3 traffic lights, 186.0ms\n",
      "Speed: 0.0ms preprocess, 186.0ms inference, 3.7ms postprocess per image at shape (1, 3, 384, 640)\n",
      "\n"
     ]
    },
    {
     "name": "stdout",
     "output_type": "stream",
     "text": [
      "3\n",
      "3\n"
     ]
    },
    {
     "name": "stderr",
     "output_type": "stream",
     "text": [
      "0: 384x640 11 persons, 4 cars, 3 traffic lights, 247.3ms\n",
      "Speed: 4.7ms preprocess, 247.3ms inference, 2.3ms postprocess per image at shape (1, 3, 384, 640)\n",
      "\n",
      "0: 384x640 10 persons, 4 cars, 3 traffic lights, 178.2ms\n",
      "Speed: 3.6ms preprocess, 178.2ms inference, 8.3ms postprocess per image at shape (1, 3, 384, 640)\n",
      "\n",
      "0: 384x640 11 persons, 3 cars, 2 traffic lights, 164.3ms\n"
     ]
    },
    {
     "name": "stdout",
     "output_type": "stream",
     "text": [
      "8\n"
     ]
    },
    {
     "name": "stderr",
     "output_type": "stream",
     "text": [
      "Speed: 4.7ms preprocess, 164.3ms inference, 0.0ms postprocess per image at shape (1, 3, 384, 640)\n",
      "\n",
      "0: 384x640 11 persons, 3 cars, 2 traffic lights, 176.1ms\n",
      "Speed: 4.1ms preprocess, 176.1ms inference, 3.2ms postprocess per image at shape (1, 3, 384, 640)\n",
      "\n",
      "0: 384x640 10 persons, 3 cars, 3 traffic lights, 209.4ms\n",
      "Speed: 4.5ms preprocess, 209.4ms inference, 2.9ms postprocess per image at shape (1, 3, 384, 640)\n",
      "\n",
      "0: 384x640 11 persons, 2 cars, 1 truck, 2 traffic lights, 194.7ms\n",
      "Speed: 4.8ms preprocess, 194.7ms inference, 2.2ms postprocess per image at shape (1, 3, 384, 640)\n",
      "\n",
      "0: 384x640 12 persons, 2 cars, 1 truck, 2 traffic lights, 154.9ms\n",
      "Speed: 3.4ms preprocess, 154.9ms inference, 0.0ms postprocess per image at shape (1, 3, 384, 640)\n",
      "\n",
      "0: 384x640 12 persons, 3 cars, 1 truck, 2 traffic lights, 167.9ms\n",
      "Speed: 7.1ms preprocess, 167.9ms inference, 1.6ms postprocess per image at shape (1, 3, 384, 640)\n",
      "\n",
      "0: 384x640 10 persons, 3 cars, 1 truck, 2 traffic lights, 170.7ms\n",
      "Speed: 3.8ms preprocess, 170.7ms inference, 1.5ms postprocess per image at shape (1, 3, 384, 640)\n",
      "\n",
      "0: 384x640 10 persons, 4 cars, 3 traffic lights, 186.2ms\n",
      "Speed: 2.2ms preprocess, 186.2ms inference, 2.2ms postprocess per image at shape (1, 3, 384, 640)\n",
      "\n",
      "0: 384x640 10 persons, 4 cars, 3 traffic lights, 188.4ms\n",
      "Speed: 4.1ms preprocess, 188.4ms inference, 0.6ms postprocess per image at shape (1, 3, 384, 640)\n",
      "\n",
      "0: 384x640 10 persons, 4 cars, 3 traffic lights, 158.5ms\n",
      "Speed: 4.0ms preprocess, 158.5ms inference, 4.8ms postprocess per image at shape (1, 3, 384, 640)\n",
      "\n",
      "0: 384x640 12 persons, 4 cars, 3 traffic lights, 159.2ms\n",
      "Speed: 4.0ms preprocess, 159.2ms inference, 5.9ms postprocess per image at shape (1, 3, 384, 640)\n",
      "\n",
      "0: 384x640 12 persons, 4 cars, 3 traffic lights, 176.0ms\n",
      "Speed: 4.4ms preprocess, 176.0ms inference, 7.5ms postprocess per image at shape (1, 3, 384, 640)\n",
      "\n",
      "0: 384x640 13 persons, 4 cars, 3 traffic lights, 133.4ms\n",
      "Speed: 3.0ms preprocess, 133.4ms inference, 0.0ms postprocess per image at shape (1, 3, 384, 640)\n",
      "\n",
      "0: 384x640 15 persons, 5 cars, 3 traffic lights, 151.7ms\n",
      "Speed: 4.0ms preprocess, 151.7ms inference, 11.8ms postprocess per image at shape (1, 3, 384, 640)\n",
      "\n",
      "0: 384x640 11 persons, 5 cars, 3 traffic lights, 150.7ms\n",
      "Speed: 4.5ms preprocess, 150.7ms inference, 4.5ms postprocess per image at shape (1, 3, 384, 640)\n",
      "\n",
      "0: 384x640 11 persons, 5 cars, 1 truck, 3 traffic lights, 166.6ms\n",
      "Speed: 2.5ms preprocess, 166.6ms inference, 3.0ms postprocess per image at shape (1, 3, 384, 640)\n",
      "\n",
      "0: 384x640 10 persons, 5 cars, 1 truck, 4 traffic lights, 180.4ms\n",
      "Speed: 4.5ms preprocess, 180.4ms inference, 2.3ms postprocess per image at shape (1, 3, 384, 640)\n",
      "\n",
      "0: 384x640 10 persons, 5 cars, 1 truck, 4 traffic lights, 149.3ms\n",
      "Speed: 4.1ms preprocess, 149.3ms inference, 0.0ms postprocess per image at shape (1, 3, 384, 640)\n",
      "\n",
      "0: 384x640 8 persons, 5 cars, 4 traffic lights, 130.9ms\n",
      "Speed: 5.8ms preprocess, 130.9ms inference, 3.6ms postprocess per image at shape (1, 3, 384, 640)\n",
      "\n",
      "0: 384x640 10 persons, 5 cars, 1 truck, 4 traffic lights, 152.8ms\n"
     ]
    },
    {
     "name": "stdout",
     "output_type": "stream",
     "text": [
      "3\n"
     ]
    },
    {
     "name": "stderr",
     "output_type": "stream",
     "text": [
      "Speed: 4.3ms preprocess, 152.8ms inference, 1.9ms postprocess per image at shape (1, 3, 384, 640)\n",
      "\n"
     ]
    },
    {
     "name": "stdout",
     "output_type": "stream",
     "text": [
      "9\n",
      "4\n"
     ]
    },
    {
     "name": "stderr",
     "output_type": "stream",
     "text": [
      "0: 384x640 11 persons, 5 cars, 4 traffic lights, 169.6ms\n",
      "Speed: 3.3ms preprocess, 169.6ms inference, 1.3ms postprocess per image at shape (1, 3, 384, 640)\n",
      "\n",
      "0: 384x640 11 persons, 5 cars, 4 traffic lights, 157.0ms\n"
     ]
    },
    {
     "name": "stdout",
     "output_type": "stream",
     "text": [
      "6\n",
      "9\n"
     ]
    },
    {
     "name": "stderr",
     "output_type": "stream",
     "text": [
      "Speed: 5.6ms preprocess, 157.0ms inference, 0.0ms postprocess per image at shape (1, 3, 384, 640)\n",
      "\n",
      "0: 384x640 8 persons, 5 cars, 4 traffic lights, 145.1ms\n",
      "Speed: 3.6ms preprocess, 145.1ms inference, 0.0ms postprocess per image at shape (1, 3, 384, 640)\n"
     ]
    },
    {
     "name": "stdout",
     "output_type": "stream",
     "text": [
      "8\n",
      "8\n"
     ]
    },
    {
     "name": "stderr",
     "output_type": "stream",
     "text": [
      "\n"
     ]
    },
    {
     "name": "stdout",
     "output_type": "stream",
     "text": [
      "8\n"
     ]
    },
    {
     "name": "stderr",
     "output_type": "stream",
     "text": [
      "0: 384x640 11 persons, 5 cars, 5 traffic lights, 146.9ms\n",
      "Speed: 4.4ms preprocess, 146.9ms inference, 2.0ms postprocess per image at shape (1, 3, 384, 640)\n",
      "\n",
      "0: 384x640 10 persons, 4 cars, 5 traffic lights, 170.9ms\n",
      "Speed: 13.7ms preprocess, 170.9ms inference, 0.0ms postprocess per image at shape (1, 3, 384, 640)\n",
      "\n",
      "0: 384x640 10 persons, 5 cars, 4 traffic lights, 156.9ms\n"
     ]
    },
    {
     "name": "stdout",
     "output_type": "stream",
     "text": [
      "3\n"
     ]
    },
    {
     "name": "stderr",
     "output_type": "stream",
     "text": [
      "Speed: 5.3ms preprocess, 156.9ms inference, 0.6ms postprocess per image at shape (1, 3, 384, 640)\n",
      "\n",
      "0: 384x640 9 persons, 5 cars, 3 traffic lights, 168.2ms\n",
      "Speed: 0.7ms preprocess, 168.2ms inference, 3.9ms postprocess per image at shape (1, 3, 384, 640)\n",
      "\n",
      "0: 384x640 7 persons, 5 cars, 3 traffic lights, 130.7ms\n",
      "Speed: 6.5ms preprocess, 130.7ms inference, 0.0ms postprocess per image at shape (1, 3, 384, 640)\n"
     ]
    },
    {
     "name": "stdout",
     "output_type": "stream",
     "text": [
      "3\n",
      "4.242640687119285\n",
      "3\n",
      "4\n"
     ]
    },
    {
     "name": "stderr",
     "output_type": "stream",
     "text": [
      "\n",
      "0: 384x640 9 persons, 5 cars, 3 traffic lights, 156.5ms\n",
      "Speed: 5.2ms preprocess, 156.5ms inference, 0.0ms postprocess per image at shape (1, 3, 384, 640)\n",
      "\n",
      "0: 384x640 12 persons, 4 cars, 4 traffic lights, 142.9ms\n"
     ]
    },
    {
     "name": "stdout",
     "output_type": "stream",
     "text": [
      "5.0\n",
      "4\n"
     ]
    },
    {
     "name": "stderr",
     "output_type": "stream",
     "text": [
      "Speed: 4.6ms preprocess, 142.9ms inference, 5.8ms postprocess per image at shape (1, 3, 384, 640)\n",
      "\n",
      "0: 384x640 11 persons, 4 cars, 1 truck, 3 traffic lights, 148.8ms\n"
     ]
    },
    {
     "name": "stdout",
     "output_type": "stream",
     "text": [
      "2.23606797749979\n",
      "4\n",
      "5\n"
     ]
    },
    {
     "name": "stderr",
     "output_type": "stream",
     "text": [
      "Speed: 3.8ms preprocess, 148.8ms inference, 0.6ms postprocess per image at shape (1, 3, 384, 640)\n",
      "\n",
      "0: 384x640 10 persons, 4 cars, 5 traffic lights, 145.2ms\n",
      "Speed: 4.0ms preprocess, 145.2ms inference, 2.5ms postprocess per image at shape (1, 3, 384, 640)\n"
     ]
    },
    {
     "name": "stdout",
     "output_type": "stream",
     "text": [
      "4\n",
      "2\n",
      "9\n",
      "1\n"
     ]
    },
    {
     "name": "stderr",
     "output_type": "stream",
     "text": [
      "\n",
      "0: 384x640 11 persons, 3 cars, 3 traffic lights, 172.4ms\n",
      "Speed: 5.0ms preprocess, 172.4ms inference, 0.0ms postprocess per image at shape (1, 3, 384, 640)\n",
      "\n",
      "0: 384x640 12 persons, 3 cars, 4 traffic lights, 143.0ms\n",
      "Speed: 3.8ms preprocess, 143.0ms inference, 0.0ms postprocess per image at shape (1, 3, 384, 640)\n",
      "\n"
     ]
    },
    {
     "name": "stdout",
     "output_type": "stream",
     "text": [
      "9\n"
     ]
    },
    {
     "name": "stderr",
     "output_type": "stream",
     "text": [
      "0: 384x640 10 persons, 2 cars, 3 traffic lights, 136.5ms\n",
      "Speed: 3.9ms preprocess, 136.5ms inference, 3.4ms postprocess per image at shape (1, 3, 384, 640)\n",
      "\n",
      "0: 384x640 12 persons, 2 cars, 2 traffic lights, 141.3ms\n",
      "Speed: 1.6ms preprocess, 141.3ms inference, 3.8ms postprocess per image at shape (1, 3, 384, 640)\n",
      "\n"
     ]
    },
    {
     "name": "stdout",
     "output_type": "stream",
     "text": [
      "1\n",
      "4\n",
      "3\n"
     ]
    },
    {
     "name": "stderr",
     "output_type": "stream",
     "text": [
      "0: 384x640 10 persons, 1 car, 1 truck, 2 traffic lights, 163.4ms\n",
      "Speed: 6.9ms preprocess, 163.4ms inference, 3.0ms postprocess per image at shape (1, 3, 384, 640)\n",
      "\n"
     ]
    },
    {
     "name": "stdout",
     "output_type": "stream",
     "text": [
      "1\n",
      "4\n"
     ]
    },
    {
     "name": "stderr",
     "output_type": "stream",
     "text": [
      "0: 384x640 9 persons, 2 cars, 1 truck, 2 traffic lights, 201.8ms\n",
      "Speed: 4.2ms preprocess, 201.8ms inference, 3.2ms postprocess per image at shape (1, 3, 384, 640)\n",
      "\n",
      "0: 384x640 9 persons, 3 cars, 2 traffic lights, 162.2ms\n"
     ]
    },
    {
     "name": "stdout",
     "output_type": "stream",
     "text": [
      "3\n"
     ]
    },
    {
     "name": "stderr",
     "output_type": "stream",
     "text": [
      "Speed: 3.2ms preprocess, 162.2ms inference, 10.6ms postprocess per image at shape (1, 3, 384, 640)\n",
      "\n"
     ]
    },
    {
     "name": "stdout",
     "output_type": "stream",
     "text": [
      "2\n"
     ]
    },
    {
     "name": "stderr",
     "output_type": "stream",
     "text": [
      "0: 384x640 9 persons, 1 car, 2 traffic lights, 184.0ms\n",
      "Speed: 9.1ms preprocess, 184.0ms inference, 3.0ms postprocess per image at shape (1, 3, 384, 640)\n",
      "\n",
      "0: 384x640 7 persons, 1 car, 4 traffic lights, 212.8ms\n",
      "Speed: 3.7ms preprocess, 212.8ms inference, 3.3ms postprocess per image at shape (1, 3, 384, 640)\n",
      "\n",
      "0: 384x640 8 persons, 1 car, 3 traffic lights, 154.3ms\n",
      "Speed: 4.1ms preprocess, 154.3ms inference, 15.4ms postprocess per image at shape (1, 3, 384, 640)\n",
      "\n",
      "0: 384x640 11 persons, 1 car, 4 traffic lights, 148.1ms\n",
      "Speed: 4.1ms preprocess, 148.1ms inference, 2.0ms postprocess per image at shape (1, 3, 384, 640)\n",
      "\n",
      "0: 384x640 14 persons, 1 car, 4 traffic lights, 183.0ms\n",
      "Speed: 4.2ms preprocess, 183.0ms inference, 2.3ms postprocess per image at shape (1, 3, 384, 640)\n",
      "\n",
      "0: 384x640 14 persons, 1 car, 4 traffic lights, 184.4ms\n",
      "Speed: 3.4ms preprocess, 184.4ms inference, 0.0ms postprocess per image at shape (1, 3, 384, 640)\n",
      "\n",
      "0: 384x640 12 persons, 1 car, 1 truck, 4 traffic lights, 156.1ms\n",
      "Speed: 5.4ms preprocess, 156.1ms inference, 6.5ms postprocess per image at shape (1, 3, 384, 640)\n",
      "\n"
     ]
    },
    {
     "name": "stdout",
     "output_type": "stream",
     "text": [
      "7\n"
     ]
    },
    {
     "name": "stderr",
     "output_type": "stream",
     "text": [
      "0: 384x640 12 persons, 1 car, 1 truck, 3 traffic lights, 160.4ms\n",
      "Speed: 5.9ms preprocess, 160.4ms inference, 3.0ms postprocess per image at shape (1, 3, 384, 640)\n",
      "\n",
      "0: 384x640 10 persons, 2 cars, 3 traffic lights, 165.4ms\n"
     ]
    },
    {
     "name": "stdout",
     "output_type": "stream",
     "text": [
      "8\n"
     ]
    },
    {
     "name": "stderr",
     "output_type": "stream",
     "text": [
      "Speed: 3.6ms preprocess, 165.4ms inference, 3.0ms postprocess per image at shape (1, 3, 384, 640)\n",
      "\n",
      "0: 384x640 11 persons, 2 cars, 2 traffic lights, 145.7ms\n"
     ]
    },
    {
     "name": "stdout",
     "output_type": "stream",
     "text": [
      "3\n"
     ]
    },
    {
     "name": "stderr",
     "output_type": "stream",
     "text": [
      "Speed: 3.4ms preprocess, 145.7ms inference, 0.0ms postprocess per image at shape (1, 3, 384, 640)\n",
      "\n",
      "0: 384x640 11 persons, 1 car, 2 traffic lights, 168.4ms\n"
     ]
    },
    {
     "name": "stdout",
     "output_type": "stream",
     "text": [
      "4\n"
     ]
    },
    {
     "name": "stderr",
     "output_type": "stream",
     "text": [
      "Speed: 5.0ms preprocess, 168.4ms inference, 2.0ms postprocess per image at shape (1, 3, 384, 640)\n",
      "\n",
      "0: 384x640 11 persons, 1 car, 1 truck, 2 traffic lights, 199.2ms\n",
      "Speed: 6.3ms preprocess, 199.2ms inference, 0.0ms postprocess per image at shape (1, 3, 384, 640)\n",
      "\n",
      "0: 384x640 10 persons, 1 car, 2 traffic lights, 150.8ms\n",
      "Speed: 4.3ms preprocess, 150.8ms inference, 0.0ms postprocess per image at shape (1, 3, 384, 640)\n"
     ]
    },
    {
     "name": "stdout",
     "output_type": "stream",
     "text": [
      "8\n"
     ]
    },
    {
     "name": "stderr",
     "output_type": "stream",
     "text": [
      "\n",
      "0: 384x640 9 persons, 1 car, 1 truck, 2 traffic lights, 201.9ms\n",
      "Speed: 5.1ms preprocess, 201.9ms inference, 2.5ms postprocess per image at shape (1, 3, 384, 640)\n",
      "\n",
      "0: 384x640 10 persons, 2 cars, 1 truck, 2 traffic lights, 162.9ms\n"
     ]
    },
    {
     "name": "stdout",
     "output_type": "stream",
     "text": [
      "8\n"
     ]
    },
    {
     "name": "stderr",
     "output_type": "stream",
     "text": [
      "Speed: 3.2ms preprocess, 162.9ms inference, 3.0ms postprocess per image at shape (1, 3, 384, 640)\n",
      "\n"
     ]
    },
    {
     "name": "stdout",
     "output_type": "stream",
     "text": [
      "8\n",
      "8\n"
     ]
    },
    {
     "name": "stderr",
     "output_type": "stream",
     "text": [
      "0: 384x640 11 persons, 2 cars, 1 truck, 2 traffic lights, 181.1ms\n",
      "Speed: 0.6ms preprocess, 181.1ms inference, 3.3ms postprocess per image at shape (1, 3, 384, 640)\n",
      "\n",
      "0: 384x640 11 persons, 1 car, 1 truck, 1 traffic light, 153.8ms\n",
      "Speed: 5.0ms preprocess, 153.8ms inference, 3.0ms postprocess per image at shape (1, 3, 384, 640)\n",
      "\n"
     ]
    },
    {
     "name": "stdout",
     "output_type": "stream",
     "text": [
      "9\n"
     ]
    },
    {
     "name": "stderr",
     "output_type": "stream",
     "text": [
      "0: 384x640 12 persons, 1 car, 1 truck, 1 traffic light, 181.5ms\n",
      "Speed: 4.0ms preprocess, 181.5ms inference, 2.3ms postprocess per image at shape (1, 3, 384, 640)\n",
      "\n"
     ]
    },
    {
     "name": "stdout",
     "output_type": "stream",
     "text": [
      "9\n"
     ]
    },
    {
     "name": "stderr",
     "output_type": "stream",
     "text": [
      "0: 384x640 14 persons, 1 car, 1 truck, 1 traffic light, 1 bench, 167.9ms\n",
      "Speed: 4.3ms preprocess, 167.9ms inference, 2.0ms postprocess per image at shape (1, 3, 384, 640)\n",
      "\n",
      "0: 384x640 10 persons, 1 car, 1 truck, 1 traffic light, 1 bench, 169.0ms\n",
      "Speed: 4.6ms preprocess, 169.0ms inference, 7.2ms postprocess per image at shape (1, 3, 384, 640)\n",
      "\n",
      "0: 384x640 11 persons, 1 car, 1 traffic light, 1 bench, 155.3ms\n",
      "Speed: 4.5ms preprocess, 155.3ms inference, 5.5ms postprocess per image at shape (1, 3, 384, 640)\n",
      "\n",
      "0: 384x640 13 persons, 1 car, 2 traffic lights, 1 bench, 141.5ms\n",
      "Speed: 4.1ms preprocess, 141.5ms inference, 4.7ms postprocess per image at shape (1, 3, 384, 640)\n",
      "\n",
      "0: 384x640 16 persons, 1 car, 4 traffic lights, 159.9ms\n",
      "Speed: 3.3ms preprocess, 159.9ms inference, 0.0ms postprocess per image at shape (1, 3, 384, 640)\n",
      "\n",
      "0: 384x640 16 persons, 1 car, 3 traffic lights, 139.2ms\n",
      "Speed: 5.0ms preprocess, 139.2ms inference, 2.5ms postprocess per image at shape (1, 3, 384, 640)\n",
      "\n",
      "0: 384x640 14 persons, 1 car, 1 truck, 3 traffic lights, 155.9ms\n",
      "Speed: 4.3ms preprocess, 155.9ms inference, 0.0ms postprocess per image at shape (1, 3, 384, 640)\n",
      "\n",
      "0: 384x640 15 persons, 1 car, 4 traffic lights, 171.3ms\n",
      "Speed: 4.3ms preprocess, 171.3ms inference, 4.0ms postprocess per image at shape (1, 3, 384, 640)\n",
      "\n",
      "0: 384x640 16 persons, 1 car, 1 truck, 3 traffic lights, 160.4ms\n",
      "Speed: 5.0ms preprocess, 160.4ms inference, 0.0ms postprocess per image at shape (1, 3, 384, 640)\n",
      "\n",
      "0: 384x640 16 persons, 1 car, 1 truck, 3 traffic lights, 192.9ms\n",
      "Speed: 4.2ms preprocess, 192.9ms inference, 5.5ms postprocess per image at shape (1, 3, 384, 640)\n",
      "\n",
      "0: 384x640 14 persons, 1 car, 1 truck, 2 traffic lights, 204.2ms\n",
      "Speed: 4.1ms preprocess, 204.2ms inference, 1.4ms postprocess per image at shape (1, 3, 384, 640)\n",
      "\n",
      "0: 384x640 15 persons, 1 car, 1 truck, 2 traffic lights, 155.6ms\n",
      "Speed: 3.3ms preprocess, 155.6ms inference, 0.0ms postprocess per image at shape (1, 3, 384, 640)\n",
      "\n",
      "0: 384x640 15 persons, 1 car, 1 truck, 2 traffic lights, 141.9ms\n",
      "Speed: 3.2ms preprocess, 141.9ms inference, 0.0ms postprocess per image at shape (1, 3, 384, 640)\n",
      "\n",
      "0: 384x640 14 persons, 1 car, 2 trucks, 2 traffic lights, 152.3ms\n",
      "Speed: 4.7ms preprocess, 152.3ms inference, 0.0ms postprocess per image at shape (1, 3, 384, 640)\n",
      "\n",
      "0: 384x640 14 persons, 2 cars, 2 trucks, 2 traffic lights, 147.7ms\n"
     ]
    },
    {
     "name": "stdout",
     "output_type": "stream",
     "text": [
      "2\n"
     ]
    },
    {
     "name": "stderr",
     "output_type": "stream",
     "text": [
      "Speed: 4.2ms preprocess, 147.7ms inference, 0.0ms postprocess per image at shape (1, 3, 384, 640)\n",
      "\n"
     ]
    },
    {
     "name": "stdout",
     "output_type": "stream",
     "text": [
      "6\n",
      "3\n"
     ]
    },
    {
     "name": "stderr",
     "output_type": "stream",
     "text": [
      "0: 384x640 11 persons, 2 cars, 2 trucks, 2 traffic lights, 1 skateboard, 183.7ms\n",
      "Speed: 3.5ms preprocess, 183.7ms inference, 1.6ms postprocess per image at shape (1, 3, 384, 640)\n",
      "\n"
     ]
    },
    {
     "name": "stdout",
     "output_type": "stream",
     "text": [
      "7\n",
      "5\n",
      "4\n"
     ]
    },
    {
     "name": "stderr",
     "output_type": "stream",
     "text": [
      "0: 384x640 13 persons, 2 cars, 1 truck, 2 traffic lights, 1 skateboard, 184.0ms\n",
      "Speed: 4.1ms preprocess, 184.0ms inference, 3.9ms postprocess per image at shape (1, 3, 384, 640)\n",
      "\n"
     ]
    },
    {
     "name": "stdout",
     "output_type": "stream",
     "text": [
      "5\n",
      "7\n"
     ]
    },
    {
     "name": "stderr",
     "output_type": "stream",
     "text": [
      "0: 384x640 14 persons, 2 cars, 1 truck, 2 traffic lights, 1 skateboard, 190.1ms\n",
      "Speed: 3.1ms preprocess, 190.1ms inference, 10.0ms postprocess per image at shape (1, 3, 384, 640)\n",
      "\n"
     ]
    },
    {
     "name": "stdout",
     "output_type": "stream",
     "text": [
      "6\n",
      "5\n"
     ]
    },
    {
     "name": "stderr",
     "output_type": "stream",
     "text": [
      "0: 384x640 14 persons, 2 cars, 1 truck, 2 traffic lights, 179.5ms\n",
      "Speed: 3.0ms preprocess, 179.5ms inference, 5.5ms postprocess per image at shape (1, 3, 384, 640)\n",
      "\n"
     ]
    },
    {
     "name": "stdout",
     "output_type": "stream",
     "text": [
      "3\n"
     ]
    },
    {
     "name": "stderr",
     "output_type": "stream",
     "text": [
      "0: 384x640 14 persons, 2 cars, 1 truck, 2 traffic lights, 1 skateboard, 175.9ms\n",
      "Speed: 4.5ms preprocess, 175.9ms inference, 0.0ms postprocess per image at shape (1, 3, 384, 640)\n",
      "\n"
     ]
    },
    {
     "name": "stdout",
     "output_type": "stream",
     "text": [
      "2\n"
     ]
    },
    {
     "name": "stderr",
     "output_type": "stream",
     "text": [
      "0: 384x640 14 persons, 1 car, 1 truck, 2 traffic lights, 1 skateboard, 204.8ms\n",
      "Speed: 3.2ms preprocess, 204.8ms inference, 4.5ms postprocess per image at shape (1, 3, 384, 640)\n",
      "\n",
      "0: 384x640 14 persons, 2 cars, 2 trucks, 2 traffic lights, 181.5ms\n",
      "Speed: 7.1ms preprocess, 181.5ms inference, 0.0ms postprocess per image at shape (1, 3, 384, 640)\n",
      "\n",
      "0: 384x640 13 persons, 2 cars, 2 trucks, 2 traffic lights, 164.5ms\n"
     ]
    },
    {
     "name": "stdout",
     "output_type": "stream",
     "text": [
      "1\n"
     ]
    },
    {
     "name": "stderr",
     "output_type": "stream",
     "text": [
      "Speed: 4.4ms preprocess, 164.5ms inference, 6.9ms postprocess per image at shape (1, 3, 384, 640)\n",
      "\n"
     ]
    },
    {
     "name": "stdout",
     "output_type": "stream",
     "text": [
      "2\n",
      "2\n"
     ]
    },
    {
     "name": "stderr",
     "output_type": "stream",
     "text": [
      "0: 384x640 11 persons, 3 cars, 2 trucks, 3 traffic lights, 173.4ms\n",
      "Speed: 9.4ms preprocess, 173.4ms inference, 3.2ms postprocess per image at shape (1, 3, 384, 640)\n",
      "\n",
      "0: 384x640 12 persons, 3 cars, 2 trucks, 3 traffic lights, 158.7ms\n"
     ]
    },
    {
     "name": "stdout",
     "output_type": "stream",
     "text": [
      "6\n",
      "5\n",
      "2\n",
      "1\n",
      "9.433981132056603\n"
     ]
    },
    {
     "name": "stderr",
     "output_type": "stream",
     "text": [
      "Speed: 3.0ms preprocess, 158.7ms inference, 2.3ms postprocess per image at shape (1, 3, 384, 640)\n",
      "\n",
      "0: 384x640 9 persons, 2 cars, 1 truck, 3 traffic lights, 158.9ms\n"
     ]
    },
    {
     "name": "stdout",
     "output_type": "stream",
     "text": [
      "7\n",
      "7\n"
     ]
    },
    {
     "name": "stderr",
     "output_type": "stream",
     "text": [
      "Speed: 7.0ms preprocess, 158.9ms inference, 2.6ms postprocess per image at shape (1, 3, 384, 640)\n",
      "\n",
      "0: 384x640 10 persons, 3 cars, 1 truck, 3 traffic lights, 146.9ms\n"
     ]
    },
    {
     "name": "stdout",
     "output_type": "stream",
     "text": [
      "7\n"
     ]
    },
    {
     "name": "stderr",
     "output_type": "stream",
     "text": [
      "Speed: 3.6ms preprocess, 146.9ms inference, 16.8ms postprocess per image at shape (1, 3, 384, 640)\n",
      "\n"
     ]
    },
    {
     "name": "stdout",
     "output_type": "stream",
     "text": [
      "7\n"
     ]
    },
    {
     "name": "stderr",
     "output_type": "stream",
     "text": [
      "0: 384x640 11 persons, 3 cars, 1 truck, 3 traffic lights, 2 skateboards, 205.1ms\n",
      "Speed: 3.2ms preprocess, 205.1ms inference, 2.6ms postprocess per image at shape (1, 3, 384, 640)\n",
      "\n"
     ]
    },
    {
     "name": "stdout",
     "output_type": "stream",
     "text": [
      "8\n"
     ]
    },
    {
     "name": "stderr",
     "output_type": "stream",
     "text": [
      "0: 384x640 9 persons, 2 cars, 1 truck, 3 traffic lights, 2 skateboards, 178.9ms\n",
      "Speed: 4.0ms preprocess, 178.9ms inference, 2.7ms postprocess per image at shape (1, 3, 384, 640)\n",
      "\n"
     ]
    },
    {
     "name": "stdout",
     "output_type": "stream",
     "text": [
      "8\n"
     ]
    },
    {
     "name": "stderr",
     "output_type": "stream",
     "text": [
      "0: 384x640 13 persons, 2 cars, 1 truck, 3 traffic lights, 1 skateboard, 228.7ms\n",
      "Speed: 7.0ms preprocess, 228.7ms inference, 3.0ms postprocess per image at shape (1, 3, 384, 640)\n",
      "\n"
     ]
    },
    {
     "name": "stdout",
     "output_type": "stream",
     "text": [
      "7\n"
     ]
    },
    {
     "name": "stderr",
     "output_type": "stream",
     "text": [
      "0: 384x640 11 persons, 2 cars, 3 traffic lights, 1 skateboard, 173.6ms\n",
      "Speed: 3.8ms preprocess, 173.6ms inference, 9.6ms postprocess per image at shape (1, 3, 384, 640)\n",
      "\n",
      "0: 384x640 12 persons, 3 cars, 1 truck, 3 traffic lights, 1 skateboard, 149.6ms\n"
     ]
    },
    {
     "name": "stdout",
     "output_type": "stream",
     "text": [
      "7\n"
     ]
    },
    {
     "name": "stderr",
     "output_type": "stream",
     "text": [
      "Speed: 4.1ms preprocess, 149.6ms inference, 1.8ms postprocess per image at shape (1, 3, 384, 640)\n",
      "\n",
      "0: 384x640 13 persons, 2 cars, 1 truck, 3 traffic lights, 132.3ms\n",
      "Speed: 4.0ms preprocess, 132.3ms inference, 2.0ms postprocess per image at shape (1, 3, 384, 640)\n",
      "\n"
     ]
    },
    {
     "name": "stdout",
     "output_type": "stream",
     "text": [
      "7\n",
      "9\n"
     ]
    },
    {
     "name": "stderr",
     "output_type": "stream",
     "text": [
      "0: 384x640 12 persons, 2 cars, 1 truck, 3 traffic lights, 195.9ms\n",
      "Speed: 7.5ms preprocess, 195.9ms inference, 2.2ms postprocess per image at shape (1, 3, 384, 640)\n",
      "\n",
      "0: 384x640 13 persons, 2 cars, 1 truck, 3 traffic lights, 174.9ms\n",
      "Speed: 5.3ms preprocess, 174.9ms inference, 0.0ms postprocess per image at shape (1, 3, 384, 640)\n",
      "\n",
      "0: 384x640 12 persons, 2 cars, 1 truck, 3 traffic lights, 144.0ms\n",
      "Speed: 3.1ms preprocess, 144.0ms inference, 16.8ms postprocess per image at shape (1, 3, 384, 640)\n",
      "\n",
      "0: 384x640 13 persons, 2 cars, 1 truck, 3 traffic lights, 229.6ms\n",
      "Speed: 7.7ms preprocess, 229.6ms inference, 3.3ms postprocess per image at shape (1, 3, 384, 640)\n",
      "\n",
      "0: 384x640 10 persons, 3 cars, 1 truck, 3 traffic lights, 213.6ms\n",
      "Speed: 1.1ms preprocess, 213.6ms inference, 8.6ms postprocess per image at shape (1, 3, 384, 640)\n",
      "\n",
      "0: 384x640 11 persons, 2 cars, 1 truck, 3 traffic lights, 240.0ms\n",
      "Speed: 4.1ms preprocess, 240.0ms inference, 1.7ms postprocess per image at shape (1, 3, 384, 640)\n",
      "\n",
      "0: 384x640 11 persons, 4 cars, 1 truck, 3 traffic lights, 190.2ms\n",
      "Speed: 5.1ms preprocess, 190.2ms inference, 3.7ms postprocess per image at shape (1, 3, 384, 640)\n",
      "\n",
      "0: 384x640 10 persons, 2 cars, 1 truck, 3 traffic lights, 172.2ms\n",
      "Speed: 8.6ms preprocess, 172.2ms inference, 0.0ms postprocess per image at shape (1, 3, 384, 640)\n",
      "\n",
      "0: 384x640 11 persons, 2 cars, 1 truck, 3 traffic lights, 164.1ms\n",
      "Speed: 5.2ms preprocess, 164.1ms inference, 2.6ms postprocess per image at shape (1, 3, 384, 640)\n",
      "\n",
      "0: 384x640 12 persons, 2 cars, 1 truck, 3 traffic lights, 156.1ms\n",
      "Speed: 3.3ms preprocess, 156.1ms inference, 1.1ms postprocess per image at shape (1, 3, 384, 640)\n",
      "\n",
      "0: 384x640 14 persons, 2 cars, 1 truck, 3 traffic lights, 176.4ms\n",
      "Speed: 7.5ms preprocess, 176.4ms inference, 0.0ms postprocess per image at shape (1, 3, 384, 640)\n",
      "\n",
      "0: 384x640 16 persons, 2 cars, 1 truck, 2 traffic lights, 175.3ms\n",
      "Speed: 6.0ms preprocess, 175.3ms inference, 3.4ms postprocess per image at shape (1, 3, 384, 640)\n",
      "\n",
      "0: 384x640 17 persons, 2 cars, 1 truck, 4 traffic lights, 185.9ms\n",
      "Speed: 5.0ms preprocess, 185.9ms inference, 1.8ms postprocess per image at shape (1, 3, 384, 640)\n",
      "\n",
      "0: 384x640 14 persons, 2 cars, 1 truck, 4 traffic lights, 153.4ms\n",
      "Speed: 3.0ms preprocess, 153.4ms inference, 4.4ms postprocess per image at shape (1, 3, 384, 640)\n",
      "\n",
      "0: 384x640 16 persons, 2 cars, 1 truck, 4 traffic lights, 153.4ms\n",
      "Speed: 9.7ms preprocess, 153.4ms inference, 0.0ms postprocess per image at shape (1, 3, 384, 640)\n",
      "\n",
      "0: 384x640 14 persons, 2 cars, 1 truck, 3 traffic lights, 212.5ms\n",
      "Speed: 5.4ms preprocess, 212.5ms inference, 3.7ms postprocess per image at shape (1, 3, 384, 640)\n",
      "\n",
      "0: 384x640 13 persons, 3 cars, 1 truck, 4 traffic lights, 152.1ms\n",
      "Speed: 3.6ms preprocess, 152.1ms inference, 0.0ms postprocess per image at shape (1, 3, 384, 640)\n",
      "\n",
      "0: 384x640 15 persons, 3 cars, 1 truck, 3 traffic lights, 199.0ms\n",
      "Speed: 3.4ms preprocess, 199.0ms inference, 2.9ms postprocess per image at shape (1, 3, 384, 640)\n",
      "\n",
      "0: 384x640 13 persons, 3 cars, 1 truck, 3 traffic lights, 150.1ms\n",
      "Speed: 3.3ms preprocess, 150.1ms inference, 0.0ms postprocess per image at shape (1, 3, 384, 640)\n",
      "\n",
      "0: 384x640 12 persons, 3 cars, 1 truck, 3 traffic lights, 134.5ms\n",
      "Speed: 3.5ms preprocess, 134.5ms inference, 13.2ms postprocess per image at shape (1, 3, 384, 640)\n",
      "\n",
      "0: 384x640 11 persons, 3 cars, 1 truck, 3 traffic lights, 155.0ms\n",
      "Speed: 18.3ms preprocess, 155.0ms inference, 0.0ms postprocess per image at shape (1, 3, 384, 640)\n",
      "\n",
      "0: 384x640 12 persons, 3 cars, 1 truck, 3 traffic lights, 136.2ms\n",
      "Speed: 6.1ms preprocess, 136.2ms inference, 0.0ms postprocess per image at shape (1, 3, 384, 640)\n",
      "\n",
      "0: 384x640 12 persons, 3 cars, 1 truck, 3 traffic lights, 156.9ms\n",
      "Speed: 4.5ms preprocess, 156.9ms inference, 7.9ms postprocess per image at shape (1, 3, 384, 640)\n",
      "\n",
      "0: 384x640 13 persons, 3 cars, 1 truck, 4 traffic lights, 140.4ms\n",
      "Speed: 3.2ms preprocess, 140.4ms inference, 5.0ms postprocess per image at shape (1, 3, 384, 640)\n",
      "\n",
      "0: 384x640 10 persons, 3 cars, 1 truck, 4 traffic lights, 171.4ms\n",
      "Speed: 5.0ms preprocess, 171.4ms inference, 1.5ms postprocess per image at shape (1, 3, 384, 640)\n",
      "\n",
      "0: 384x640 12 persons, 2 cars, 1 truck, 4 traffic lights, 175.2ms\n",
      "Speed: 3.2ms preprocess, 175.2ms inference, 2.3ms postprocess per image at shape (1, 3, 384, 640)\n",
      "\n",
      "0: 384x640 11 persons, 2 cars, 1 truck, 4 traffic lights, 140.0ms\n",
      "Speed: 6.9ms preprocess, 140.0ms inference, 2.8ms postprocess per image at shape (1, 3, 384, 640)\n",
      "\n",
      "0: 384x640 11 persons, 2 cars, 1 truck, 4 traffic lights, 116.2ms\n",
      "Speed: 4.0ms preprocess, 116.2ms inference, 6.3ms postprocess per image at shape (1, 3, 384, 640)\n",
      "\n",
      "0: 384x640 12 persons, 3 cars, 1 truck, 4 traffic lights, 157.3ms\n",
      "Speed: 5.4ms preprocess, 157.3ms inference, 3.4ms postprocess per image at shape (1, 3, 384, 640)\n",
      "\n",
      "0: 384x640 10 persons, 3 cars, 4 traffic lights, 164.4ms\n",
      "Speed: 3.2ms preprocess, 164.4ms inference, 3.0ms postprocess per image at shape (1, 3, 384, 640)\n",
      "\n",
      "0: 384x640 12 persons, 3 cars, 4 traffic lights, 145.1ms\n",
      "Speed: 5.0ms preprocess, 145.1ms inference, 12.0ms postprocess per image at shape (1, 3, 384, 640)\n",
      "\n",
      "0: 384x640 11 persons, 3 cars, 4 traffic lights, 133.8ms\n",
      "Speed: 4.5ms preprocess, 133.8ms inference, 0.9ms postprocess per image at shape (1, 3, 384, 640)\n",
      "\n",
      "0: 384x640 12 persons, 3 cars, 4 traffic lights, 156.0ms\n",
      "Speed: 5.5ms preprocess, 156.0ms inference, 2.8ms postprocess per image at shape (1, 3, 384, 640)\n",
      "\n",
      "0: 384x640 11 persons, 3 cars, 1 truck, 4 traffic lights, 134.8ms\n",
      "Speed: 4.2ms preprocess, 134.8ms inference, 3.8ms postprocess per image at shape (1, 3, 384, 640)\n",
      "\n",
      "0: 384x640 11 persons, 2 cars, 1 truck, 4 traffic lights, 141.4ms\n"
     ]
    },
    {
     "name": "stdout",
     "output_type": "stream",
     "text": [
      "8\n",
      "8\n"
     ]
    },
    {
     "name": "stderr",
     "output_type": "stream",
     "text": [
      "Speed: 4.0ms preprocess, 141.4ms inference, 2.4ms postprocess per image at shape (1, 3, 384, 640)\n",
      "\n",
      "0: 384x640 9 persons, 2 cars, 1 truck, 3 traffic lights, 166.7ms\n"
     ]
    },
    {
     "name": "stdout",
     "output_type": "stream",
     "text": [
      "8\n"
     ]
    },
    {
     "name": "stderr",
     "output_type": "stream",
     "text": [
      "Speed: 4.6ms preprocess, 166.7ms inference, 2.7ms postprocess per image at shape (1, 3, 384, 640)\n",
      "\n",
      "0: 384x640 11 persons, 2 cars, 1 truck, 4 traffic lights, 144.8ms\n",
      "Speed: 3.4ms preprocess, 144.8ms inference, 3.0ms postprocess per image at shape (1, 3, 384, 640)\n",
      "\n",
      "0: 384x640 11 persons, 2 cars, 1 truck, 5 traffic lights, 158.1ms\n"
     ]
    },
    {
     "name": "stdout",
     "output_type": "stream",
     "text": [
      "9\n"
     ]
    },
    {
     "name": "stderr",
     "output_type": "stream",
     "text": [
      "Speed: 3.1ms preprocess, 158.1ms inference, 2.9ms postprocess per image at shape (1, 3, 384, 640)\n",
      "\n",
      "0: 384x640 10 persons, 2 cars, 1 truck, 4 traffic lights, 159.5ms\n"
     ]
    },
    {
     "name": "stdout",
     "output_type": "stream",
     "text": [
      "6\n"
     ]
    },
    {
     "name": "stderr",
     "output_type": "stream",
     "text": [
      "Speed: 3.9ms preprocess, 159.5ms inference, 2.0ms postprocess per image at shape (1, 3, 384, 640)\n",
      "\n",
      "0: 384x640 11 persons, 2 cars, 1 truck, 3 traffic lights, 157.7ms\n",
      "Speed: 6.0ms preprocess, 157.7ms inference, 2.0ms postprocess per image at shape (1, 3, 384, 640)\n",
      "\n",
      "0: 384x640 9 persons, 2 cars, 1 truck, 4 traffic lights, 129.0ms\n",
      "Speed: 4.3ms preprocess, 129.0ms inference, 4.4ms postprocess per image at shape (1, 3, 384, 640)\n",
      "\n",
      "0: 384x640 8 persons, 2 cars, 1 truck, 3 traffic lights, 135.9ms\n",
      "Speed: 7.0ms preprocess, 135.9ms inference, 2.0ms postprocess per image at shape (1, 3, 384, 640)\n",
      "\n"
     ]
    },
    {
     "name": "stdout",
     "output_type": "stream",
     "text": [
      "8\n"
     ]
    },
    {
     "name": "stderr",
     "output_type": "stream",
     "text": [
      "0: 384x640 8 persons, 2 cars, 1 truck, 4 traffic lights, 1 horse, 142.3ms\n",
      "Speed: 4.1ms preprocess, 142.3ms inference, 5.0ms postprocess per image at shape (1, 3, 384, 640)\n",
      "\n",
      "0: 384x640 9 persons, 2 cars, 1 truck, 4 traffic lights, 2 horses, 142.6ms\n"
     ]
    },
    {
     "name": "stdout",
     "output_type": "stream",
     "text": [
      "8\n"
     ]
    },
    {
     "name": "stderr",
     "output_type": "stream",
     "text": [
      "Speed: 4.0ms preprocess, 142.6ms inference, 6.1ms postprocess per image at shape (1, 3, 384, 640)\n",
      "\n",
      "0: 384x640 10 persons, 2 cars, 1 truck, 4 traffic lights, 2 horses, 149.5ms\n"
     ]
    },
    {
     "name": "stdout",
     "output_type": "stream",
     "text": [
      "5\n"
     ]
    },
    {
     "name": "stderr",
     "output_type": "stream",
     "text": [
      "Speed: 4.0ms preprocess, 149.5ms inference, 2.0ms postprocess per image at shape (1, 3, 384, 640)\n",
      "\n",
      "0: 384x640 10 persons, 4 cars, 1 truck, 2 traffic lights, 2 horses, 153.7ms\n"
     ]
    },
    {
     "name": "stdout",
     "output_type": "stream",
     "text": [
      "6\n"
     ]
    },
    {
     "name": "stderr",
     "output_type": "stream",
     "text": [
      "Speed: 3.0ms preprocess, 153.7ms inference, 0.0ms postprocess per image at shape (1, 3, 384, 640)\n",
      "\n",
      "0: 384x640 7 persons, 3 cars, 1 truck, 2 traffic lights, 2 horses, 154.5ms\n"
     ]
    },
    {
     "name": "stdout",
     "output_type": "stream",
     "text": [
      "7\n",
      "7\n"
     ]
    },
    {
     "name": "stderr",
     "output_type": "stream",
     "text": [
      "Speed: 1.2ms preprocess, 154.5ms inference, 2.7ms postprocess per image at shape (1, 3, 384, 640)\n",
      "\n",
      "0: 384x640 7 persons, 3 cars, 2 traffic lights, 2 horses, 122.4ms\n",
      "Speed: 3.8ms preprocess, 122.4ms inference, 2.0ms postprocess per image at shape (1, 3, 384, 640)\n",
      "\n"
     ]
    },
    {
     "name": "stdout",
     "output_type": "stream",
     "text": [
      "5\n",
      "5\n",
      "7\n"
     ]
    },
    {
     "name": "stderr",
     "output_type": "stream",
     "text": [
      "0: 384x640 6 persons, 4 cars, 2 traffic lights, 1 horse, 183.6ms\n",
      "Speed: 4.0ms preprocess, 183.6ms inference, 2.0ms postprocess per image at shape (1, 3, 384, 640)\n",
      "\n",
      "0: 384x640 6 persons, 4 cars, 1 truck, 3 traffic lights, 3 horses, 157.5ms\n",
      "Speed: 3.1ms preprocess, 157.5ms inference, 2.0ms postprocess per image at shape (1, 3, 384, 640)\n",
      "\n",
      "0: 384x640 8 persons, 4 cars, 1 truck, 3 traffic lights, 1 horse, 136.4ms\n",
      "Speed: 4.9ms preprocess, 136.4ms inference, 0.0ms postprocess per image at shape (1, 3, 384, 640)\n",
      "\n",
      "0: 384x640 9 persons, 4 cars, 1 truck, 4 traffic lights, 1 horse, 139.4ms\n",
      "Speed: 3.4ms preprocess, 139.4ms inference, 2.5ms postprocess per image at shape (1, 3, 384, 640)\n",
      "\n"
     ]
    },
    {
     "name": "stdout",
     "output_type": "stream",
     "text": [
      "1\n"
     ]
    },
    {
     "name": "stderr",
     "output_type": "stream",
     "text": [
      "0: 384x640 9 persons, 4 cars, 4 traffic lights, 1 horse, 306.3ms\n",
      "Speed: 5.6ms preprocess, 306.3ms inference, 2.1ms postprocess per image at shape (1, 3, 384, 640)\n",
      "\n",
      "0: 384x640 8 persons, 3 cars, 3 traffic lights, 1 horse, 120.8ms\n",
      "Speed: 3.1ms preprocess, 120.8ms inference, 2.3ms postprocess per image at shape (1, 3, 384, 640)\n",
      "\n",
      "0: 384x640 7 persons, 3 cars, 3 traffic lights, 123.2ms\n",
      "Speed: 3.7ms preprocess, 123.2ms inference, 4.5ms postprocess per image at shape (1, 3, 384, 640)\n",
      "\n",
      "0: 384x640 6 persons, 3 cars, 2 traffic lights, 128.7ms\n",
      "Speed: 4.0ms preprocess, 128.7ms inference, 2.0ms postprocess per image at shape (1, 3, 384, 640)\n",
      "\n",
      "0: 384x640 6 persons, 3 cars, 3 traffic lights, 121.5ms\n",
      "Speed: 2.4ms preprocess, 121.5ms inference, 14.3ms postprocess per image at shape (1, 3, 384, 640)\n",
      "\n",
      "0: 384x640 7 persons, 3 cars, 2 traffic lights, 216.9ms\n",
      "Speed: 4.7ms preprocess, 216.9ms inference, 3.0ms postprocess per image at shape (1, 3, 384, 640)\n",
      "\n",
      "0: 384x640 6 persons, 3 cars, 3 traffic lights, 232.2ms\n",
      "Speed: 8.2ms preprocess, 232.2ms inference, 9.8ms postprocess per image at shape (1, 3, 384, 640)\n",
      "\n",
      "0: 384x640 6 persons, 3 cars, 3 traffic lights, 1 horse, 162.1ms\n",
      "Speed: 14.5ms preprocess, 162.1ms inference, 7.4ms postprocess per image at shape (1, 3, 384, 640)\n",
      "\n",
      "0: 384x640 8 persons, 3 cars, 3 traffic lights, 208.0ms\n",
      "Speed: 4.0ms preprocess, 208.0ms inference, 0.0ms postprocess per image at shape (1, 3, 384, 640)\n",
      "\n"
     ]
    },
    {
     "name": "stdout",
     "output_type": "stream",
     "text": [
      "9\n"
     ]
    },
    {
     "name": "stderr",
     "output_type": "stream",
     "text": [
      "0: 384x640 8 persons, 3 cars, 3 traffic lights, 218.1ms\n",
      "Speed: 3.0ms preprocess, 218.1ms inference, 3.0ms postprocess per image at shape (1, 3, 384, 640)\n",
      "\n",
      "0: 384x640 7 persons, 4 cars, 3 traffic lights, 179.5ms\n",
      "Speed: 5.0ms preprocess, 179.5ms inference, 3.2ms postprocess per image at shape (1, 3, 384, 640)\n",
      "\n",
      "0: 384x640 7 persons, 3 cars, 3 traffic lights, 242.8ms\n",
      "Speed: 3.5ms preprocess, 242.8ms inference, 2.4ms postprocess per image at shape (1, 3, 384, 640)\n",
      "\n",
      "0: 384x640 8 persons, 3 cars, 3 traffic lights, 195.7ms\n",
      "Speed: 3.3ms preprocess, 195.7ms inference, 0.0ms postprocess per image at shape (1, 3, 384, 640)\n",
      "\n",
      "0: 384x640 8 persons, 3 cars, 3 traffic lights, 223.4ms\n",
      "Speed: 4.0ms preprocess, 223.4ms inference, 4.8ms postprocess per image at shape (1, 3, 384, 640)\n",
      "\n",
      "0: 384x640 8 persons, 3 cars, 3 traffic lights, 148.0ms\n",
      "Speed: 3.5ms preprocess, 148.0ms inference, 2.5ms postprocess per image at shape (1, 3, 384, 640)\n",
      "\n",
      "0: 384x640 7 persons, 3 cars, 2 traffic lights, 187.1ms\n",
      "Speed: 4.0ms preprocess, 187.1ms inference, 0.0ms postprocess per image at shape (1, 3, 384, 640)\n",
      "\n",
      "0: 384x640 9 persons, 3 cars, 2 traffic lights, 156.8ms\n",
      "Speed: 5.0ms preprocess, 156.8ms inference, 3.0ms postprocess per image at shape (1, 3, 384, 640)\n",
      "\n",
      "0: 384x640 10 persons, 3 cars, 2 traffic lights, 193.4ms\n",
      "Speed: 5.0ms preprocess, 193.4ms inference, 0.0ms postprocess per image at shape (1, 3, 384, 640)\n",
      "\n",
      "0: 384x640 7 persons, 3 cars, 2 traffic lights, 152.6ms\n",
      "Speed: 4.2ms preprocess, 152.6ms inference, 3.0ms postprocess per image at shape (1, 3, 384, 640)\n"
     ]
    }
   ],
   "source": [
    "cap = cv2.VideoCapture(\"videos/traffic2.mp4\")\n",
    "\n",
    "\n",
    "while True:\n",
    "    _, frame = cap.read()\n",
    "    \n",
    "    img = cv2.cvtColor(frame, cv2.COLOR_BGR2RGB)\n",
    "\n",
    "    results = model.predict(img)\n",
    "    people_boxes = []\n",
    "    cars_boxes = []\n",
    "    \n",
    "    for r in results:\n",
    "        boxes = r.boxes\n",
    "        for box in boxes: \n",
    "            b = box.xyxy[0].numpy().astype(\"int\") # get box coordinates in (top, left, bottom, right) format\n",
    "            c = box.cls\n",
    "            if model.names[int(c)]==\"person\":\n",
    "                people_boxes.append(b)\n",
    "            if model.names[int(c)] in [\"car\", \"truck\"]:\n",
    "                cars_boxes.append(b)  \n",
    "            \n",
    "                           \n",
    "            # print(b)\n",
    "            # print(model.names[int(c)])\n",
    "            if model.names[int(c)] in ['person', 'car', \"truck\"]:\n",
    "                cv2.rectangle(frame, b[:2], b[2:], color = (255, 0, 0), thickness=2)\n",
    "                \n",
    "    # print(cars_boxes)            \n",
    "    # d = get_distance(cars_boxes[0], cars_boxes[1])\n",
    "    # print(d)\n",
    "                \n",
    "    for person in people_boxes:\n",
    "        for car in cars_boxes:\n",
    "            if get_distance(person, car)<10:\n",
    "                print(get_distance(person, car))\n",
    "                cv2.rectangle(frame, person[:2], person[2:], color = (0, 0, 255), thickness=3) \n",
    "                cv2.rectangle(frame, car[:2], car[2:], color = (0, 0, 255), thickness=3)\n",
    "                cv2.putText(frame, \"ALARM!\", (20, 50), cv2.FONT_HERSHEY_SIMPLEX , fontScale = 1, color=(0, 0, 255), thickness=5) \n",
    "                            \n",
    "    imS = cv2.resize(frame, (960, 540))        \n",
    "    cv2.imshow('YOLO V8 Detection', imS)\n",
    "    if cv2.waitKey(1) & 0xFF == ord('q'):\n",
    "        break\n",
    "\n",
    "cap.release()\n",
    "cv2.destroyAllWindows()"
   ]
  },
  {
   "cell_type": "code",
   "execution_count": 52,
   "metadata": {},
   "outputs": [],
   "source": [
    "cap.release()\n",
    "cv2.destroyAllWindows()"
   ]
  },
  {
   "cell_type": "code",
   "execution_count": null,
   "metadata": {},
   "outputs": [],
   "source": []
  }
 ],
 "metadata": {
  "kernelspec": {
   "display_name": ".venv",
   "language": "python",
   "name": "python3"
  },
  "language_info": {
   "codemirror_mode": {
    "name": "ipython",
    "version": 3
   },
   "file_extension": ".py",
   "mimetype": "text/x-python",
   "name": "python",
   "nbconvert_exporter": "python",
   "pygments_lexer": "ipython3",
   "version": "3.11.6"
  }
 },
 "nbformat": 4,
 "nbformat_minor": 2
}
